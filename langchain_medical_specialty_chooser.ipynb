{
 "cells": [
  {
   "attachments": {},
   "cell_type": "markdown",
   "metadata": {},
   "source": [
    "In this notebook I will try to create a medical specialty chooser in which the patient introduces his symptoms and the model will predict the medical specialty that the patient should go to."
   ]
  },
  {
   "cell_type": "code",
   "execution_count": 67,
   "metadata": {},
   "outputs": [],
   "source": [
    "from langchain.chat_models import ChatOpenAI\n",
    "from langchain import LLMChain\n",
    "from langchain.prompts.chat import (\n",
    "\n",
    "    SystemMessagePromptTemplate,ChatPromptTemplate,HumanMessagePromptTemplate\n",
    "\n",
    ")\n",
    "from langchain.callbacks import get_openai_callback\n",
    "from pydantic import BaseModel, Field, validator\n",
    "from langchain.output_parsers import PydanticOutputParser\n",
    "from pydantic import BaseModel, Field, validator\n",
    "\n",
    "# Desired output.\n",
    "class MedicalSpecialty(BaseModel):\n",
    "    medical_specialty: str = Field(description=\"medical specialty the patient should go to\")\n",
    "    urgent: bool = Field(description=\"the patient should go to the hospital immediately\")\n",
    " \n",
    "parser = PydanticOutputParser(pydantic_object=MedicalSpecialty)\n",
    "\n",
    "template=\"You are a medical expert.You will receive the symptoms and will tell the medical specialty the patient should go to.\\n{format_instructions}\"\n",
    "\n",
    "system_message_prompt = SystemMessagePromptTemplate.from_template(template)\n",
    "\n",
    "human_template = \"{text}\"\n",
    "human_message_prompt = HumanMessagePromptTemplate.from_template(human_template)\n",
    "chat_prompt = ChatPromptTemplate.from_messages(\n",
    "    [system_message_prompt,human_message_prompt]\n",
    ")\n"
   ]
  },
  {
   "cell_type": "code",
   "execution_count": 68,
   "metadata": {},
   "outputs": [
    {
     "name": "stdout",
     "output_type": "stream",
     "text": [
      "{\"medical_specialty\": \"Cardiology\", \"urgent\": true}\n",
      "{\"medical_specialty\": \"Neurology\", \"urgent\": false}\n",
      "{\"medical_specialty\": \"Gastroenterology\", \"urgent\": true}\n",
      "{\"medical_specialty\": \"Dentistry\", \"urgent\": false}\n",
      "{\"medical_specialty\": \"Gastroenterology\", \"urgent\": false}\n",
      "{\"medical_specialty\": \"Urology\", \"urgent\": true}\n",
      "Tokens Used: 1537\n",
      "\tPrompt Tokens: 1446\n",
      "\tCompletion Tokens: 91\n",
      "Successful Requests: 6\n",
      "Total Cost (USD): $0.0023510000000000002\n"
     ]
    }
   ],
   "source": [
    "queries = [\"i have ache in my chest and in my left arm.\",\"me duele mucho la cabeza en la parte frontal y detrás, sudo mucho y estoy mareado.\", \"dolor abdominal en mi parte derecha que se irradia a la espalda.fiebre.\", \"me duele un diente.\",\"cuando como pan voy mucho a hacer caca.\",\"no hago pipí desde hace 12 horas.\"]\n",
    "\n",
    "with get_openai_callback() as cb:\n",
    "    for query in queries:\n",
    "        chat = ChatOpenAI(temperature=0)\n",
    "\n",
    "        chain = LLMChain(llm=chat, prompt=chat_prompt)\n",
    "\n",
    "        print(chain.run({'text': query, 'format_instructions': parser.get_format_instructions()}))\n",
    "        \n",
    "    print(cb)\n",
    "\n"
   ]
  }
 ],
 "metadata": {
  "kernelspec": {
   "display_name": ".venv",
   "language": "python",
   "name": "python3"
  },
  "language_info": {
   "codemirror_mode": {
    "name": "ipython",
    "version": 3
   },
   "file_extension": ".py",
   "mimetype": "text/x-python",
   "name": "python",
   "nbconvert_exporter": "python",
   "pygments_lexer": "ipython3",
   "version": "3.11.2"
  },
  "orig_nbformat": 4
 },
 "nbformat": 4,
 "nbformat_minor": 2
}
