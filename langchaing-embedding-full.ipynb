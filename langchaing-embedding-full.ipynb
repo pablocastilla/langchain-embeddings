{
 "cells": [
  {
   "attachments": {},
   "cell_type": "markdown",
   "metadata": {},
   "source": [
    "# trying different methods of using LLM with Embeddings"
   ]
  },
  {
   "cell_type": "code",
   "execution_count": 1,
   "metadata": {},
   "outputs": [],
   "source": [
    "import os\n",
    "\n",
    "from dotenv import load_dotenv, find_dotenv\n",
    "asdf = load_dotenv(find_dotenv()) # read local .env file"
   ]
  },
  {
   "cell_type": "code",
   "execution_count": 2,
   "metadata": {},
   "outputs": [],
   "source": [
    "from langchain.chains import RetrievalQA\n",
    "from langchain.chat_models import ChatOpenAI\n",
    "from langchain.document_loaders import CSVLoader\n",
    "from langchain.vectorstores import DocArrayInMemorySearch\n",
    "from IPython.display import display, Markdown\n"
   ]
  },
  {
   "cell_type": "code",
   "execution_count": 3,
   "metadata": {},
   "outputs": [],
   "source": [
    "file = 'drivers_full.csv'\n",
    "loader = CSVLoader(file_path=file,encoding='utf-8')"
   ]
  },
  {
   "cell_type": "code",
   "execution_count": 4,
   "metadata": {},
   "outputs": [],
   "source": [
    "from langchain.indexes import VectorstoreIndexCreator\n",
    "index = VectorstoreIndexCreator(\n",
    "    vectorstore_cls=DocArrayInMemorySearch\n",
    ").from_loaders([loader])"
   ]
  },
  {
   "cell_type": "code",
   "execution_count": 5,
   "metadata": {},
   "outputs": [
    {
     "data": {
      "text/markdown": [
       " The youngest driver is Pascal Wehrlein, born in 1994."
      ],
      "text/plain": [
       "<IPython.core.display.Markdown object>"
      ]
     },
     "metadata": {},
     "output_type": "display_data"
    },
    {
     "data": {
      "text/markdown": [
       " Bernd Schneider, Pascal Wehrlein, Ralf Schumacher, and Manfred Winkelhock are all German drivers."
      ],
      "text/plain": [
       "<IPython.core.display.Markdown object>"
      ]
     },
     "metadata": {},
     "output_type": "display_data"
    },
    {
     "data": {
      "text/markdown": [
       " 4"
      ],
      "text/plain": [
       "<IPython.core.display.Markdown object>"
      ]
     },
     "metadata": {},
     "output_type": "display_data"
    },
    {
     "data": {
      "text/markdown": [
       " The oldest driver is Peter Walker, with a date of birth of 1912-10-07."
      ],
      "text/plain": [
       "<IPython.core.display.Markdown object>"
      ]
     },
     "metadata": {},
     "output_type": "display_data"
    },
    {
     "data": {
      "text/markdown": [
       " David Coulthard."
      ],
      "text/plain": [
       "<IPython.core.display.Markdown object>"
      ]
     },
     "metadata": {},
     "output_type": "display_data"
    },
    {
     "data": {
      "text/markdown": [
       " Ron Flockhart, with a birthdate of 1923-06-16."
      ],
      "text/plain": [
       "<IPython.core.display.Markdown object>"
      ]
     },
     "metadata": {},
     "output_type": "display_data"
    },
    {
     "data": {
      "text/plain": [
       "[None, None, None, None, None, None]"
      ]
     },
     "execution_count": 5,
     "metadata": {},
     "output_type": "execute_result"
    }
   ],
   "source": [
    "queries = [\"Tell me the youngest driver.\",\"Tell me every driver that is German\",\"how many german drivers are?\", \"Tell me the oldest driver.\", \"which driver uses the number 14?\", \"which driver has the oldest birthdate?\"]\n",
    "responses = list(map(lambda query:index.query(query),queries))\n",
    "[display(Markdown(r)) for r in responses]"
   ]
  },
  {
   "cell_type": "code",
   "execution_count": 6,
   "metadata": {},
   "outputs": [],
   "source": [
    "docs = loader.load()"
   ]
  },
  {
   "cell_type": "code",
   "execution_count": 7,
   "metadata": {},
   "outputs": [],
   "source": [
    "from langchain.embeddings import OpenAIEmbeddings\n",
    "embeddings = OpenAIEmbeddings()"
   ]
  },
  {
   "cell_type": "code",
   "execution_count": 8,
   "metadata": {},
   "outputs": [],
   "source": [
    "db = DocArrayInMemorySearch.from_documents(\n",
    "    docs, \n",
    "    embeddings\n",
    ")"
   ]
  },
  {
   "cell_type": "code",
   "execution_count": 9,
   "metadata": {},
   "outputs": [
    {
     "name": "stdout",
     "output_type": "stream",
     "text": [
      "Tell me the youngest driver.\n",
      "[Document(page_content='driverId: 845\\nname: sirotkin\\nnumber: 35\\ncode: SIR\\nforename: Sergey\\nsurname: Sirotkin\\ndate of birth: 1995-08-27\\nnationality: Russian\\nurl: http://en.wikipedia.org/wiki/Sergey_Sirotkin_(racing_driver)', metadata={'source': 'drivers_full.csv', 'row': 843}), Document(page_content='driverId: 836\\nname: wehrlein\\nnumber: 94\\ncode: WEH\\nforename: Pascal\\nsurname: Wehrlein\\ndate of birth: 1994-10-18\\nnationality: German\\nurl: http://en.wikipedia.org/wiki/Pascal_Wehrlein', metadata={'source': 'drivers_full.csv', 'row': 835}), Document(page_content='driverId: 12\\nname: piquet_jr\\nnumber: \\ncode: PIQ\\nforename: Nelson\\nsurname: Piquet Jr.\\ndate of birth: 1985-07-25\\nnationality: Brazilian\\nurl: http://en.wikipedia.org/wiki/Nelson_Piquet,_Jr.', metadata={'source': 'drivers_full.csv', 'row': 11}), Document(page_content='driverId: 126\\nname: toshio_suzuki\\nnumber: \\ncode: \\nforename: Toshio\\nsurname: Suzuki\\ndate of birth: 1955-03-10\\nnationality: Japanese\\nurl: http://en.wikipedia.org/wiki/Toshio_Suzuki_(driver)', metadata={'source': 'drivers_full.csv', 'row': 125})]\n",
      "\n",
      "Tell me every driver that is German\n",
      "[Document(page_content='driverId: 757\\nname: peters\\nnumber: \\ncode: \\nforename: Josef\\nsurname: Peters\\ndate of birth: 1914-09-16\\nnationality: German\\nurl: http://en.wikipedia.org/wiki/Josef_Peters_(driver)', metadata={'source': 'drivers_full.csv', 'row': 757}), Document(page_content='driverId: 836\\nname: wehrlein\\nnumber: 94\\ncode: WEH\\nforename: Pascal\\nsurname: Wehrlein\\ndate of birth: 1994-10-18\\nnationality: German\\nurl: http://en.wikipedia.org/wiki/Pascal_Wehrlein', metadata={'source': 'drivers_full.csv', 'row': 835}), Document(page_content='driverId: 146\\nname: schneider\\nnumber: \\ncode: \\nforename: Bernd\\nsurname: Schneider\\ndate of birth: 1964-07-20\\nnationality: German\\nurl: http://en.wikipedia.org/wiki/Bernd_Schneider_(racecar_driver)', metadata={'source': 'drivers_full.csv', 'row': 145}), Document(page_content='driverId: 23\\nname: ralf_schumacher\\nnumber: \\ncode: SCH\\nforename: Ralf\\nsurname: Schumacher\\ndate of birth: 1975-06-30\\nnationality: German\\nurl: http://en.wikipedia.org/wiki/Ralf_Schumacher', metadata={'source': 'drivers_full.csv', 'row': 22})]\n",
      "\n",
      "how many german drivers are?\n",
      "[Document(page_content='driverId: 757\\nname: peters\\nnumber: \\ncode: \\nforename: Josef\\nsurname: Peters\\ndate of birth: 1914-09-16\\nnationality: German\\nurl: http://en.wikipedia.org/wiki/Josef_Peters_(driver)', metadata={'source': 'drivers_full.csv', 'row': 757}), Document(page_content='driverId: 836\\nname: wehrlein\\nnumber: 94\\ncode: WEH\\nforename: Pascal\\nsurname: Wehrlein\\ndate of birth: 1994-10-18\\nnationality: German\\nurl: http://en.wikipedia.org/wiki/Pascal_Wehrlein', metadata={'source': 'drivers_full.csv', 'row': 835}), Document(page_content='driverId: 146\\nname: schneider\\nnumber: \\ncode: \\nforename: Bernd\\nsurname: Schneider\\ndate of birth: 1964-07-20\\nnationality: German\\nurl: http://en.wikipedia.org/wiki/Bernd_Schneider_(racecar_driver)', metadata={'source': 'drivers_full.csv', 'row': 145}), Document(page_content='driverId: 23\\nname: ralf_schumacher\\nnumber: \\ncode: SCH\\nforename: Ralf\\nsurname: Schumacher\\ndate of birth: 1975-06-30\\nnationality: German\\nurl: http://en.wikipedia.org/wiki/Ralf_Schumacher', metadata={'source': 'drivers_full.csv', 'row': 22})]\n",
      "\n",
      "Tell me the oldest driver.\n",
      "[Document(page_content='driverId: 310\\nname: driver\\nnumber: \\ncode: \\nforename: Paddy\\nsurname: Driver\\ndate of birth: 1934-05-13\\nnationality: South African\\nurl: http://en.wikipedia.org/wiki/Paddy_Driver', metadata={'source': 'drivers_full.csv', 'row': 309}), Document(page_content='driverId: 757\\nname: peters\\nnumber: \\ncode: \\nforename: Josef\\nsurname: Peters\\ndate of birth: 1914-09-16\\nnationality: German\\nurl: http://en.wikipedia.org/wiki/Josef_Peters_(driver)', metadata={'source': 'drivers_full.csv', 'row': 757}), Document(page_content='driverId: 462\\nname: davis\\nnumber: \\ncode: \\nforename: Colin\\nsurname: Davis\\ndate of birth: 1933-07-29\\nnationality: British\\nurl: http://en.wikipedia.org/wiki/Colin_Davis_(driver)', metadata={'source': 'drivers_full.csv', 'row': 462}), Document(page_content='driverId: 540\\nname: mike_taylor\\nnumber: \\ncode: \\nforename: Mike\\nsurname: Taylor\\ndate of birth: 1934-04-24\\nnationality: British\\nurl: http://en.wikipedia.org/wiki/Mike_Taylor_(driver)', metadata={'source': 'drivers_full.csv', 'row': 540})]\n",
      "\n",
      "which driver uses the number 14?\n",
      "[Document(page_content='driverId: 21\\nname: fisichella\\nnumber: \\ncode: FIS\\nforename: Giancarlo\\nsurname: Fisichella\\ndate of birth: 1973-01-14\\nnationality: Italian\\nurl: http://en.wikipedia.org/wiki/Giancarlo_Fisichella', metadata={'source': 'drivers_full.csv', 'row': 20}), Document(page_content='driverId: 836\\nname: wehrlein\\nnumber: 94\\ncode: WEH\\nforename: Pascal\\nsurname: Wehrlein\\ndate of birth: 1994-10-18\\nnationality: German\\nurl: http://en.wikipedia.org/wiki/Pascal_Wehrlein', metadata={'source': 'drivers_full.csv', 'row': 835}), Document(page_content='driverId: 540\\nname: mike_taylor\\nnumber: \\ncode: \\nforename: Mike\\nsurname: Taylor\\ndate of birth: 1934-04-24\\nnationality: British\\nurl: http://en.wikipedia.org/wiki/Mike_Taylor_(driver)', metadata={'source': 'drivers_full.csv', 'row': 540}), Document(page_content='driverId: 822\\nname: bottas\\nnumber: 77\\ncode: BOT\\nforename: Valtteri\\nsurname: Bottas\\ndate of birth: 1989-08-28\\nnationality: Finnish\\nurl: http://en.wikipedia.org/wiki/Valtteri_Bottas', metadata={'source': 'drivers_full.csv', 'row': 821})]\n",
      "\n",
      "which driver has the oldest birthdate?\n",
      "[Document(page_content='driverId: 290\\nname: wilson_fittipaldi\\nnumber: \\ncode: \\nforename: Wilson\\nsurname: Fittipaldi\\ndate of birth: 1943-12-25\\nnationality: Brazilian\\nurl: http://en.wikipedia.org/wiki/Wilson_Fittipaldi', metadata={'source': 'drivers_full.csv', 'row': 289}), Document(page_content='driverId: 847\\nname: russell\\nnumber: 63\\ncode: RUS\\nforename: George\\nsurname: Russell\\ndate of birth: 1998-02-15\\nnationality: British\\nurl: http://en.wikipedia.org/wiki/George_Russell_%28racing_driver%29', metadata={'source': 'drivers_full.csv', 'row': 845}), Document(page_content='driverId: 462\\nname: davis\\nnumber: \\ncode: \\nforename: Colin\\nsurname: Davis\\ndate of birth: 1933-07-29\\nnationality: British\\nurl: http://en.wikipedia.org/wiki/Colin_Davis_(driver)', metadata={'source': 'drivers_full.csv', 'row': 462}), Document(page_content='driverId: 126\\nname: toshio_suzuki\\nnumber: \\ncode: \\nforename: Toshio\\nsurname: Suzuki\\ndate of birth: 1955-03-10\\nnationality: Japanese\\nurl: http://en.wikipedia.org/wiki/Toshio_Suzuki_(driver)', metadata={'source': 'drivers_full.csv', 'row': 125})]\n",
      "\n"
     ]
    }
   ],
   "source": [
    "for query in queries:\n",
    "    print(query)\n",
    "    print(db.similarity_search(query))\n",
    "    print()\n"
   ]
  },
  {
   "cell_type": "code",
   "execution_count": 10,
   "metadata": {},
   "outputs": [],
   "source": [
    "retriever = db.as_retriever()"
   ]
  },
  {
   "cell_type": "code",
   "execution_count": 11,
   "metadata": {},
   "outputs": [],
   "source": [
    "llm = ChatOpenAI(temperature = 0.0)"
   ]
  },
  {
   "cell_type": "code",
   "execution_count": 12,
   "metadata": {},
   "outputs": [],
   "source": [
    "if file == 'drivers.csv':\n",
    "    qdocs = \"\".join([docs[i].page_content for i in range(len(docs))])\n",
    "\n",
    "    for query in queries:\n",
    "        print(query)\n",
    "        response = llm.call_as_llm(f\"{qdocs} Question: {query}\") \n",
    "        display(Markdown(response))\n"
   ]
  },
  {
   "cell_type": "code",
   "execution_count": 13,
   "metadata": {},
   "outputs": [
    {
     "name": "stdout",
     "output_type": "stream",
     "text": [
      "Tell me the youngest driver.\n",
      "\n",
      "\n",
      "\u001b[1m> Entering new RetrievalQA chain...\u001b[0m\n",
      "\n",
      "\u001b[1m> Finished chain.\u001b[0m\n"
     ]
    },
    {
     "data": {
      "text/markdown": [
       "I'm sorry, I don't have enough information to answer that question. I have information about the drivers' birth dates, but I don't have their ages or the date of the race."
      ],
      "text/plain": [
       "<IPython.core.display.Markdown object>"
      ]
     },
     "metadata": {},
     "output_type": "display_data"
    },
    {
     "name": "stdout",
     "output_type": "stream",
     "text": [
      "Tell me every driver that is German\n",
      "\n",
      "\n",
      "\u001b[1m> Entering new RetrievalQA chain...\u001b[0m\n",
      "\n",
      "\u001b[1m> Finished chain.\u001b[0m\n"
     ]
    },
    {
     "data": {
      "text/markdown": [
       "The drivers that are German are:\n",
       "- Josef Peters\n",
       "- Bernd Schneider\n",
       "- Pascal Wehrlein\n",
       "- Ralf Schumacher"
      ],
      "text/plain": [
       "<IPython.core.display.Markdown object>"
      ]
     },
     "metadata": {},
     "output_type": "display_data"
    },
    {
     "name": "stdout",
     "output_type": "stream",
     "text": [
      "how many german drivers are?\n",
      "\n",
      "\n",
      "\u001b[1m> Entering new RetrievalQA chain...\u001b[0m\n",
      "\n",
      "\u001b[1m> Finished chain.\u001b[0m\n"
     ]
    },
    {
     "data": {
      "text/markdown": [
       "There are four German drivers listed in the given context."
      ],
      "text/plain": [
       "<IPython.core.display.Markdown object>"
      ]
     },
     "metadata": {},
     "output_type": "display_data"
    },
    {
     "name": "stdout",
     "output_type": "stream",
     "text": [
      "Tell me the oldest driver.\n",
      "\n",
      "\n",
      "\u001b[1m> Entering new RetrievalQA chain...\u001b[0m\n",
      "\n",
      "\u001b[1m> Finished chain.\u001b[0m\n"
     ]
    },
    {
     "data": {
      "text/markdown": [
       "I'm sorry, but I don't have enough information to determine the oldest driver. The birth dates of the drivers are provided, but I would need to calculate their ages to determine who is the oldest."
      ],
      "text/plain": [
       "<IPython.core.display.Markdown object>"
      ]
     },
     "metadata": {},
     "output_type": "display_data"
    },
    {
     "name": "stdout",
     "output_type": "stream",
     "text": [
      "which driver uses the number 14?\n",
      "\n",
      "\n",
      "\u001b[1m> Entering new RetrievalQA chain...\u001b[0m\n",
      "\n",
      "\u001b[1m> Finished chain.\u001b[0m\n"
     ]
    },
    {
     "data": {
      "text/markdown": [
       "I'm sorry, but none of the drivers listed uses the number 14."
      ],
      "text/plain": [
       "<IPython.core.display.Markdown object>"
      ]
     },
     "metadata": {},
     "output_type": "display_data"
    },
    {
     "name": "stdout",
     "output_type": "stream",
     "text": [
      "which driver has the oldest birthdate?\n",
      "\n",
      "\n",
      "\u001b[1m> Entering new RetrievalQA chain...\u001b[0m\n",
      "\n",
      "\u001b[1m> Finished chain.\u001b[0m\n"
     ]
    },
    {
     "data": {
      "text/markdown": [
       "Bob Anderson has the oldest birthdate, which is May 19, 1931."
      ],
      "text/plain": [
       "<IPython.core.display.Markdown object>"
      ]
     },
     "metadata": {},
     "output_type": "display_data"
    }
   ],
   "source": [
    "qa_stuff = RetrievalQA.from_chain_type(\n",
    "    llm=llm, \n",
    "    chain_type=\"stuff\", \n",
    "    retriever=retriever, \n",
    "    verbose=True\n",
    ")\n",
    "\n",
    "for query in queries:\n",
    "    print(query)\n",
    "    response = qa_stuff.run(query)\n",
    "    display(Markdown(response))\n"
   ]
  },
  {
   "cell_type": "code",
   "execution_count": 14,
   "metadata": {},
   "outputs": [
    {
     "name": "stdout",
     "output_type": "stream",
     "text": [
      "Tell me the youngest driver.\n",
      "\n",
      "\n",
      "\u001b[1m> Entering new RetrievalQA chain...\u001b[0m\n",
      "\n",
      "\u001b[1m> Finished chain.\u001b[0m\n"
     ]
    },
    {
     "data": {
      "text/markdown": [
       "I'm sorry, but I cannot determine the youngest driver as the given portion of the document does not provide information about the age or birthdate of any drivers."
      ],
      "text/plain": [
       "<IPython.core.display.Markdown object>"
      ]
     },
     "metadata": {},
     "output_type": "display_data"
    },
    {
     "name": "stdout",
     "output_type": "stream",
     "text": [
      "Tell me every driver that is German\n",
      "\n",
      "\n",
      "\u001b[1m> Entering new RetrievalQA chain...\u001b[0m\n",
      "\n",
      "\u001b[1m> Finished chain.\u001b[0m\n"
     ]
    },
    {
     "data": {
      "text/markdown": [
       "The drivers that are German are:\n",
       "- Josef Peters\n",
       "- Pascal Wehrlein\n",
       "- Sebastian Vettel\n",
       "- Nico Hulkenberg\n",
       "- Nico Rosberg\n",
       "- Adrian Sutil\n",
       "- Michael Schumacher\n",
       "- Bernd Schneider\n",
       "- Ralf Schumacher"
      ],
      "text/plain": [
       "<IPython.core.display.Markdown object>"
      ]
     },
     "metadata": {},
     "output_type": "display_data"
    },
    {
     "name": "stdout",
     "output_type": "stream",
     "text": [
      "how many german drivers are?\n",
      "\n",
      "\n",
      "\u001b[1m> Entering new RetrievalQA chain...\u001b[0m\n",
      "\n",
      "\u001b[1m> Finished chain.\u001b[0m\n"
     ]
    },
    {
     "data": {
      "text/markdown": [
       "I'm sorry, but I cannot provide an answer to your question as none of the given portions of the document provide information about the total number of German drivers."
      ],
      "text/plain": [
       "<IPython.core.display.Markdown object>"
      ]
     },
     "metadata": {},
     "output_type": "display_data"
    },
    {
     "name": "stdout",
     "output_type": "stream",
     "text": [
      "Tell me the oldest driver.\n",
      "\n",
      "\n",
      "\u001b[1m> Entering new RetrievalQA chain...\u001b[0m\n",
      "\n",
      "\u001b[1m> Finished chain.\u001b[0m\n"
     ]
    },
    {
     "data": {
      "text/markdown": [
       "I'm sorry, I cannot provide a definitive answer as there are conflicting statements in the extracted parts of the document. One statement says that Paddy Driver is the oldest driver with a birthdate of 1934-05-13, while another statement says that Josef Peters is the oldest driver with a birthdate of 1914-09-16. The third statement says that there is not enough information to determine the oldest driver, and the fourth statement mentions a birthdate of 1934-04-24 but does not specify if this driver is the oldest."
      ],
      "text/plain": [
       "<IPython.core.display.Markdown object>"
      ]
     },
     "metadata": {},
     "output_type": "display_data"
    },
    {
     "name": "stdout",
     "output_type": "stream",
     "text": [
      "which driver uses the number 14?\n",
      "\n",
      "\n",
      "\u001b[1m> Entering new RetrievalQA chain...\u001b[0m\n",
      "\n",
      "\u001b[1m> Finished chain.\u001b[0m\n"
     ]
    },
    {
     "data": {
      "text/markdown": [
       "There is no information in the given portion of the document about which driver uses the number 14."
      ],
      "text/plain": [
       "<IPython.core.display.Markdown object>"
      ]
     },
     "metadata": {},
     "output_type": "display_data"
    },
    {
     "name": "stdout",
     "output_type": "stream",
     "text": [
      "which driver has the oldest birthdate?\n",
      "\n",
      "\n",
      "\u001b[1m> Entering new RetrievalQA chain...\u001b[0m\n",
      "\n",
      "\u001b[1m> Finished chain.\u001b[0m\n"
     ]
    },
    {
     "data": {
      "text/markdown": [
       "There are multiple answers to this question based on the given information:\n",
       "- If we only consider the provided portion of the document, it is not possible to determine which driver has the oldest birthdate.\n",
       "- If we consider a different source of information, the driver with the oldest birthdate is Paddy Driver, born on May 13, 1934, or Bob Anderson, born on May 19, 1931."
      ],
      "text/plain": [
       "<IPython.core.display.Markdown object>"
      ]
     },
     "metadata": {},
     "output_type": "display_data"
    }
   ],
   "source": [
    "qa_stuff = RetrievalQA.from_chain_type(\n",
    "    llm=llm, \n",
    "    chain_type=\"map_reduce\", \n",
    "    retriever=retriever, \n",
    "    verbose=True\n",
    ")\n",
    "\n",
    "for query in queries:\n",
    "    print(query)\n",
    "    response = qa_stuff.run(query)\n",
    "    display(Markdown(response))"
   ]
  },
  {
   "cell_type": "code",
   "execution_count": 15,
   "metadata": {},
   "outputs": [
    {
     "name": "stdout",
     "output_type": "stream",
     "text": [
      "Tell me the youngest driver.\n",
      "\n",
      "\n",
      "\u001b[1m> Entering new RetrievalQA chain...\u001b[0m\n",
      "\n",
      "\u001b[1m> Finished chain.\u001b[0m\n"
     ]
    },
    {
     "data": {
      "text/markdown": [
       "The new context is not useful for answering the original question about the youngest driver. The original answer of Pascal Wehrlein being the youngest driver still stands."
      ],
      "text/plain": [
       "<IPython.core.display.Markdown object>"
      ]
     },
     "metadata": {},
     "output_type": "display_data"
    },
    {
     "name": "stdout",
     "output_type": "stream",
     "text": [
      "Tell me every driver that is German\n",
      "\n",
      "\n",
      "\u001b[1m> Entering new RetrievalQA chain...\u001b[0m\n",
      "\n",
      "\u001b[1m> Finished chain.\u001b[0m\n"
     ]
    },
    {
     "data": {
      "text/markdown": [
       "Thank you for providing additional context. Based on the new information, there is another driver mentioned who is German: Ralf Schumacher."
      ],
      "text/plain": [
       "<IPython.core.display.Markdown object>"
      ]
     },
     "metadata": {},
     "output_type": "display_data"
    },
    {
     "name": "stdout",
     "output_type": "stream",
     "text": [
      "how many german drivers are?\n",
      "\n",
      "\n",
      "\u001b[1m> Entering new RetrievalQA chain...\u001b[0m\n",
      "\n",
      "\u001b[1m> Finished chain.\u001b[0m\n"
     ]
    },
    {
     "data": {
      "text/markdown": [
       "I apologize for the confusion. Based on the new context provided, I still don't have access to information about the total number of German drivers. The context only provides details about one specific German driver named Kurt Kuhnke."
      ],
      "text/plain": [
       "<IPython.core.display.Markdown object>"
      ]
     },
     "metadata": {},
     "output_type": "display_data"
    },
    {
     "name": "stdout",
     "output_type": "stream",
     "text": [
      "Tell me the oldest driver.\n",
      "\n",
      "\n",
      "\u001b[1m> Entering new RetrievalQA chain...\u001b[0m\n",
      "\n",
      "\u001b[1m> Finished chain.\u001b[0m\n"
     ]
    },
    {
     "data": {
      "text/markdown": [
       "Based on the new context, the oldest driver is Mike Taylor, who was born on April 24, 1934."
      ],
      "text/plain": [
       "<IPython.core.display.Markdown object>"
      ]
     },
     "metadata": {},
     "output_type": "display_data"
    },
    {
     "name": "stdout",
     "output_type": "stream",
     "text": [
      "which driver uses the number 14?\n",
      "\n",
      "\n",
      "\u001b[1m> Entering new RetrievalQA chain...\u001b[0m\n",
      "\n",
      "\u001b[1m> Finished chain.\u001b[0m\n"
     ]
    },
    {
     "data": {
      "text/markdown": [
       "Based on the new context, the driver with the number 14 is not mentioned. Therefore, the original answer still stands."
      ],
      "text/plain": [
       "<IPython.core.display.Markdown object>"
      ]
     },
     "metadata": {},
     "output_type": "display_data"
    },
    {
     "name": "stdout",
     "output_type": "stream",
     "text": [
      "which driver has the oldest birthdate?\n",
      "\n",
      "\n",
      "\u001b[1m> Entering new RetrievalQA chain...\u001b[0m\n",
      "\n",
      "\u001b[1m> Finished chain.\u001b[0m\n"
     ]
    },
    {
     "data": {
      "text/markdown": [
       "Based on the new context, the original answer needs to be updated. The driver with the oldest birthdate is Bob Anderson, born on May 19, 1931."
      ],
      "text/plain": [
       "<IPython.core.display.Markdown object>"
      ]
     },
     "metadata": {},
     "output_type": "display_data"
    }
   ],
   "source": [
    "qa_stuff = RetrievalQA.from_chain_type(\n",
    "    llm=llm, \n",
    "    chain_type=\"refine\", \n",
    "    retriever=retriever, \n",
    "    verbose=True\n",
    ")\n",
    "\n",
    "for query in queries:\n",
    "    print(query)\n",
    "    response = qa_stuff.run(query)\n",
    "    display(Markdown(response))"
   ]
  },
  {
   "cell_type": "code",
   "execution_count": 16,
   "metadata": {},
   "outputs": [
    {
     "name": "stdout",
     "output_type": "stream",
     "text": [
      "Tell me the youngest driver.\n",
      "\n",
      "\n",
      "\u001b[1m> Entering new RetrievalQA chain...\u001b[0m\n",
      "\n",
      "\u001b[1m> Finished chain.\u001b[0m\n"
     ]
    },
    {
     "data": {
      "text/markdown": [
       "Pascal Wehrlein was born on October 18, 1994, making him the youngest driver listed in this context."
      ],
      "text/plain": [
       "<IPython.core.display.Markdown object>"
      ]
     },
     "metadata": {},
     "output_type": "display_data"
    },
    {
     "name": "stdout",
     "output_type": "stream",
     "text": [
      "Tell me every driver that is German\n",
      "\n",
      "\n",
      "\u001b[1m> Entering new RetrievalQA chain...\u001b[0m\n",
      "\n",
      "\u001b[1m> Finished chain.\u001b[0m\n"
     ]
    },
    {
     "data": {
      "text/markdown": [
       "Bernd Schneider"
      ],
      "text/plain": [
       "<IPython.core.display.Markdown object>"
      ]
     },
     "metadata": {},
     "output_type": "display_data"
    },
    {
     "name": "stdout",
     "output_type": "stream",
     "text": [
      "how many german drivers are?\n",
      "\n",
      "\n",
      "\u001b[1m> Entering new RetrievalQA chain...\u001b[0m\n",
      "\n",
      "\u001b[1m> Finished chain.\u001b[0m\n"
     ]
    },
    {
     "data": {
      "text/markdown": [
       "This document does not answer the question"
      ],
      "text/plain": [
       "<IPython.core.display.Markdown object>"
      ]
     },
     "metadata": {},
     "output_type": "display_data"
    },
    {
     "name": "stdout",
     "output_type": "stream",
     "text": [
      "Tell me the oldest driver.\n",
      "\n",
      "\n",
      "\u001b[1m> Entering new RetrievalQA chain...\u001b[0m\n",
      "\n",
      "\u001b[1m> Finished chain.\u001b[0m\n"
     ]
    },
    {
     "data": {
      "text/markdown": [
       "Paddy Driver, born on May 13, 1934."
      ],
      "text/plain": [
       "<IPython.core.display.Markdown object>"
      ]
     },
     "metadata": {},
     "output_type": "display_data"
    },
    {
     "name": "stdout",
     "output_type": "stream",
     "text": [
      "which driver uses the number 14?\n",
      "\n",
      "\n",
      "\u001b[1m> Entering new RetrievalQA chain...\u001b[0m\n",
      "\n",
      "\u001b[1m> Finished chain.\u001b[0m\n"
     ]
    },
    {
     "data": {
      "text/markdown": [
       "No driver in this context uses the number 14."
      ],
      "text/plain": [
       "<IPython.core.display.Markdown object>"
      ]
     },
     "metadata": {},
     "output_type": "display_data"
    },
    {
     "name": "stdout",
     "output_type": "stream",
     "text": [
      "which driver has the oldest birthdate?\n",
      "\n",
      "\n",
      "\u001b[1m> Entering new RetrievalQA chain...\u001b[0m\n",
      "\n",
      "\u001b[1m> Finished chain.\u001b[0m\n"
     ]
    },
    {
     "data": {
      "text/markdown": [
       "Wilson Fittipaldi"
      ],
      "text/plain": [
       "<IPython.core.display.Markdown object>"
      ]
     },
     "metadata": {},
     "output_type": "display_data"
    }
   ],
   "source": [
    "qa_stuff = RetrievalQA.from_chain_type(\n",
    "    llm=llm, \n",
    "    chain_type='map_rerank', \n",
    "    retriever=retriever, \n",
    "    verbose=True\n",
    ")\n",
    "\n",
    "for query in queries:\n",
    "    print(query)\n",
    "    response = qa_stuff.run(query)\n",
    "    display(Markdown(response))"
   ]
  },
  {
   "cell_type": "code",
   "execution_count": 17,
   "metadata": {},
   "outputs": [],
   "source": [
    "index = VectorstoreIndexCreator(\n",
    "    vectorstore_cls=DocArrayInMemorySearch,\n",
    "    embedding=embeddings,\n",
    ").from_loaders([loader])"
   ]
  },
  {
   "cell_type": "code",
   "execution_count": 18,
   "metadata": {},
   "outputs": [
    {
     "name": "stdout",
     "output_type": "stream",
     "text": [
      "Tell me the youngest driver.\n",
      "I'm sorry, I don't have enough information to answer that question. I need more context about the drivers you are referring to.\n",
      "Tell me every driver that is German\n",
      "The drivers that are German are:\n",
      "- Josef Peters\n",
      "- Bernd Schneider\n",
      "- Pascal Wehrlein\n",
      "- Ralf Schumacher\n",
      "how many german drivers are?\n",
      "Based on the given context, there are four German drivers mentioned.\n",
      "Tell me the oldest driver.\n",
      "The oldest driver is Peter Walker, born on October 7th, 1912.\n",
      "which driver uses the number 14?\n",
      "I'm sorry, but none of the drivers listed uses the number 14.\n",
      "which driver has the oldest birthdate?\n",
      "Bob Anderson has the oldest birthdate, which is May 19, 1931.\n"
     ]
    }
   ],
   "source": [
    "for query in queries:\n",
    "    print(query)\n",
    "    response = index.query(query, llm=llm)\n",
    "    print(response)"
   ]
  }
 ],
 "metadata": {
  "kernelspec": {
   "display_name": ".venv",
   "language": "python",
   "name": "python3"
  },
  "language_info": {
   "codemirror_mode": {
    "name": "ipython",
    "version": 3
   },
   "file_extension": ".py",
   "mimetype": "text/x-python",
   "name": "python",
   "nbconvert_exporter": "python",
   "pygments_lexer": "ipython3",
   "version": "3.11.2"
  },
  "orig_nbformat": 4
 },
 "nbformat": 4,
 "nbformat_minor": 2
}
