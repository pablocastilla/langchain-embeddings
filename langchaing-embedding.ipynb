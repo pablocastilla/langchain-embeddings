{
 "cells": [
  {
   "attachments": {},
   "cell_type": "markdown",
   "metadata": {},
   "source": [
    "# trying different methods of using LLM with Embeddings"
   ]
  },
  {
   "cell_type": "code",
   "execution_count": 16,
   "metadata": {},
   "outputs": [],
   "source": [
    "import os\n",
    "\n",
    "from dotenv import load_dotenv, find_dotenv\n",
    "asdf = load_dotenv(find_dotenv()) # read local .env file"
   ]
  },
  {
   "cell_type": "code",
   "execution_count": 17,
   "metadata": {},
   "outputs": [],
   "source": [
    "from langchain.chains import RetrievalQA\n",
    "from langchain.chat_models import ChatOpenAI\n",
    "from langchain.document_loaders import CSVLoader\n",
    "from langchain.vectorstores import DocArrayInMemorySearch\n",
    "from IPython.display import display, Markdown\n"
   ]
  },
  {
   "cell_type": "code",
   "execution_count": 18,
   "metadata": {},
   "outputs": [],
   "source": [
    "file = 'drivers.csv'\n",
    "loader = CSVLoader(file_path=file,encoding='utf-8')"
   ]
  },
  {
   "cell_type": "code",
   "execution_count": 19,
   "metadata": {},
   "outputs": [],
   "source": [
    "from langchain.indexes import VectorstoreIndexCreator\n",
    "index = VectorstoreIndexCreator(\n",
    "    vectorstore_cls=DocArrayInMemorySearch\n",
    ").from_loaders([loader])"
   ]
  },
  {
   "cell_type": "code",
   "execution_count": 20,
   "metadata": {},
   "outputs": [
    {
     "data": {
      "text/markdown": [
       " The youngest driver is Nelson Piquet Jr. with a date of birth of 25/07/1985."
      ],
      "text/plain": [
       "<IPython.core.display.Markdown object>"
      ]
     },
     "metadata": {},
     "output_type": "display_data"
    },
    {
     "data": {
      "text/markdown": [
       " Nick Heidfeld, Adrian Sutil, Timo Glock, and Nico Rosberg."
      ],
      "text/plain": [
       "<IPython.core.display.Markdown object>"
      ]
     },
     "metadata": {},
     "output_type": "display_data"
    },
    {
     "data": {
      "text/markdown": [
       " Fernando Alonso, born on 29/07/1981."
      ],
      "text/plain": [
       "<IPython.core.display.Markdown object>"
      ]
     },
     "metadata": {},
     "output_type": "display_data"
    },
    {
     "data": {
      "text/markdown": [
       " Fernando Alonso."
      ],
      "text/plain": [
       "<IPython.core.display.Markdown object>"
      ]
     },
     "metadata": {},
     "output_type": "display_data"
    },
    {
     "data": {
      "text/plain": [
       "[None, None, None, None]"
      ]
     },
     "execution_count": 20,
     "metadata": {},
     "output_type": "execute_result"
    }
   ],
   "source": [
    "queries = [\"Tell me the youngest driver.\",\"Tell me the drivers that are German\", \"Tell me the oldest driver.\", \"which driver uses the number 14?\"]\n",
    "responses = list(map(lambda query:index.query(query),queries))\n",
    "[display(Markdown(r)) for r in responses]"
   ]
  },
  {
   "cell_type": "code",
   "execution_count": 21,
   "metadata": {},
   "outputs": [],
   "source": [
    "docs = loader.load()"
   ]
  },
  {
   "cell_type": "code",
   "execution_count": 22,
   "metadata": {},
   "outputs": [],
   "source": [
    "from langchain.embeddings import OpenAIEmbeddings\n",
    "embeddings = OpenAIEmbeddings()"
   ]
  },
  {
   "cell_type": "code",
   "execution_count": 23,
   "metadata": {},
   "outputs": [],
   "source": [
    "db = DocArrayInMemorySearch.from_documents(\n",
    "    docs, \n",
    "    embeddings\n",
    ")"
   ]
  },
  {
   "cell_type": "code",
   "execution_count": 24,
   "metadata": {},
   "outputs": [
    {
     "name": "stdout",
     "output_type": "stream",
     "text": [
      "Tell me the youngest driver.\n",
      "[Document(page_content='driverId: 12\\nname: piquet_jr\\nnumber: \\ncode: PIQ\\nforename: Nelson\\nsurname: Piquet Jr.\\ndate of birth: 25/07/1985\\nnationality: Brazilian\\nurl: http://en.wikipedia.org/wiki/Nelson_Piquet,_Jr.', metadata={'source': 'drivers.csv', 'row': 3}), Document(page_content='driverId: 5\\nname: kovalainen\\nnumber: \\ncode: KOV\\nforename: Heikki\\nsurname: Kovalainen\\ndate of birth: 19/10/1981\\nnationality: Finnish\\nurl: http://en.wikipedia.org/wiki/Heikki_Kovalainen', metadata={'source': 'drivers.csv', 'row': 5}), Document(page_content='driverId: 8\\nname: raikkonen\\nnumber: 7\\ncode: RAI\\nforename: Kimi\\nsurname: R�_ikk̦nen\\ndate of birth: 17/10/1979\\nnationality: Finnish\\nurl: http://en.wikipedia.org/wiki/Kimi_R%C3%A4ikk%C3%B6nen', metadata={'source': 'drivers.csv', 'row': 8}), Document(page_content='driverId: 7\\nname: bourdais\\nnumber: \\ncode: BOU\\nforename: S̩bastien\\nsurname: Bourdais\\ndate of birth: 28/02/1979\\nnationality: French\\nurl: http://en.wikipedia.org/wiki/S%C3%A9bastien_Bourdais', metadata={'source': 'drivers.csv', 'row': 7})]\n",
      "\n",
      "Tell me the drivers that are German\n",
      "[Document(page_content='driverId: 2\\nname: heidfeld\\nnumber: \\ncode: HEI\\nforename: Nick\\nsurname: Heidfeld\\ndate of birth: 10/05/1977\\nnationality: German\\nurl: http://en.wikipedia.org/wiki/Nick_Heidfeld', metadata={'source': 'drivers.csv', 'row': 1}), Document(page_content='driverId: 16\\nname: sutil\\nnumber: 99\\ncode: SUT\\nforename: Adrian\\nsurname: Sutil\\ndate of birth: 11/01/1983\\nnationality: German\\nurl: http://en.wikipedia.org/wiki/Adrian_Sutil', metadata={'source': 'drivers.csv', 'row': 15}), Document(page_content='driverId: 10\\nname: glock\\nnumber: \\ncode: GLO\\nforename: Timo\\nsurname: Glock\\ndate of birth: 18/03/1982\\nnationality: German\\nurl: http://en.wikipedia.org/wiki/Timo_Glock', metadata={'source': 'drivers.csv', 'row': 10}), Document(page_content='driverId: 3\\nname: rosberg\\nnumber: 6\\ncode: ROS\\nforename: Nico\\nsurname: Rosberg\\ndate of birth: 27/06/1985\\nnationality: German\\nurl: http://en.wikipedia.org/wiki/Nico_Rosberg', metadata={'source': 'drivers.csv', 'row': 2})]\n",
      "\n",
      "Tell me the oldest driver.\n",
      "[Document(page_content='driverId: 4\\nname: alonso\\nnumber: 14\\ncode: ALO\\nforename: Fernando\\nsurname: Alonso\\ndate of birth: 29/07/1981\\nnationality: Spanish\\nurl: http://en.wikipedia.org/wiki/Fernando_Alonso', metadata={'source': 'drivers.csv', 'row': 4}), Document(page_content='driverId: 7\\nname: bourdais\\nnumber: \\ncode: BOU\\nforename: S̩bastien\\nsurname: Bourdais\\ndate of birth: 28/02/1979\\nnationality: French\\nurl: http://en.wikipedia.org/wiki/S%C3%A9bastien_Bourdais', metadata={'source': 'drivers.csv', 'row': 7}), Document(page_content='driverId: 1\\nname: hamilton\\nnumber: 44\\ncode: HAM\\nforename: Lewis\\nsurname: Hamilton\\ndate of birth: 07/01/1985\\nnationality: British\\nurl: http://en.wikipedia.org/wiki/Lewis_Hamilton', metadata={'source': 'drivers.csv', 'row': 0}), Document(page_content='driverId: 12\\nname: piquet_jr\\nnumber: \\ncode: PIQ\\nforename: Nelson\\nsurname: Piquet Jr.\\ndate of birth: 25/07/1985\\nnationality: Brazilian\\nurl: http://en.wikipedia.org/wiki/Nelson_Piquet,_Jr.', metadata={'source': 'drivers.csv', 'row': 3})]\n",
      "\n",
      "which driver uses the number 14?\n",
      "[Document(page_content='driverId: 4\\nname: alonso\\nnumber: 14\\ncode: ALO\\nforename: Fernando\\nsurname: Alonso\\ndate of birth: 29/07/1981\\nnationality: Spanish\\nurl: http://en.wikipedia.org/wiki/Fernando_Alonso', metadata={'source': 'drivers.csv', 'row': 4}), Document(page_content='driverId: 12\\nname: piquet_jr\\nnumber: \\ncode: PIQ\\nforename: Nelson\\nsurname: Piquet Jr.\\ndate of birth: 25/07/1985\\nnationality: Brazilian\\nurl: http://en.wikipedia.org/wiki/Nelson_Piquet,_Jr.', metadata={'source': 'drivers.csv', 'row': 3}), Document(page_content='driverId: 7\\nname: bourdais\\nnumber: \\ncode: BOU\\nforename: S̩bastien\\nsurname: Bourdais\\ndate of birth: 28/02/1979\\nnationality: French\\nurl: http://en.wikipedia.org/wiki/S%C3%A9bastien_Bourdais', metadata={'source': 'drivers.csv', 'row': 7}), Document(page_content='driverId: 14\\nname: coulthard\\nnumber: \\ncode: COU\\nforename: David\\nsurname: Coulthard\\ndate of birth: 27/03/1971\\nnationality: British\\nurl: http://en.wikipedia.org/wiki/David_Coulthard', metadata={'source': 'drivers.csv', 'row': 13})]\n",
      "\n"
     ]
    }
   ],
   "source": [
    "for query in queries:\n",
    "    print(query)\n",
    "    print(db.similarity_search(query))\n",
    "    print()\n"
   ]
  },
  {
   "cell_type": "code",
   "execution_count": 25,
   "metadata": {},
   "outputs": [],
   "source": [
    "retriever = db.as_retriever()"
   ]
  },
  {
   "cell_type": "code",
   "execution_count": 26,
   "metadata": {},
   "outputs": [],
   "source": [
    "llm = ChatOpenAI(temperature = 0.0)"
   ]
  },
  {
   "cell_type": "code",
   "execution_count": 27,
   "metadata": {},
   "outputs": [
    {
     "name": "stdout",
     "output_type": "stream",
     "text": [
      "Tell me the youngest driver.\n"
     ]
    },
    {
     "data": {
      "text/markdown": [
       "The youngest driver is Lewis Hamilton with a date of birth of 07/01/1985."
      ],
      "text/plain": [
       "<IPython.core.display.Markdown object>"
      ]
     },
     "metadata": {},
     "output_type": "display_data"
    },
    {
     "name": "stdout",
     "output_type": "stream",
     "text": [
      "Tell me the drivers that are German\n"
     ]
    },
    {
     "data": {
      "text/markdown": [
       "The drivers that are German are:\n",
       "\n",
       "- Nick Heidfeld\n",
       "- Nico Rosberg\n",
       "- Adrian Sutil\n",
       "- Timo Glock"
      ],
      "text/plain": [
       "<IPython.core.display.Markdown object>"
      ]
     },
     "metadata": {},
     "output_type": "display_data"
    },
    {
     "name": "stdout",
     "output_type": "stream",
     "text": [
      "Tell me the oldest driver.\n"
     ]
    },
    {
     "data": {
      "text/markdown": [
       "The oldest driver is David Coulthard, born on March 27, 1971."
      ],
      "text/plain": [
       "<IPython.core.display.Markdown object>"
      ]
     },
     "metadata": {},
     "output_type": "display_data"
    },
    {
     "name": "stdout",
     "output_type": "stream",
     "text": [
      "which driver uses the number 14?\n"
     ]
    },
    {
     "data": {
      "text/markdown": [
       "Fernando Alonso uses the number 14."
      ],
      "text/plain": [
       "<IPython.core.display.Markdown object>"
      ]
     },
     "metadata": {},
     "output_type": "display_data"
    }
   ],
   "source": [
    "qdocs = \"\".join([docs[i].page_content for i in range(len(docs))])\n",
    "\n",
    "for query in queries:\n",
    "    print(query)\n",
    "    response = llm.call_as_llm(f\"{qdocs} Question: {query}\") \n",
    "    display(Markdown(response))\n"
   ]
  },
  {
   "cell_type": "code",
   "execution_count": 28,
   "metadata": {},
   "outputs": [
    {
     "name": "stdout",
     "output_type": "stream",
     "text": [
      "Tell me the youngest driver.\n",
      "\n",
      "\n",
      "\u001b[1m> Entering new RetrievalQA chain...\u001b[0m\n",
      "\n",
      "\u001b[1m> Finished chain.\u001b[0m\n"
     ]
    },
    {
     "data": {
      "text/markdown": [
       "I'm sorry, but I don't have enough information to answer your question. The context provided only includes the birth dates of the drivers, but not their ages."
      ],
      "text/plain": [
       "<IPython.core.display.Markdown object>"
      ]
     },
     "metadata": {},
     "output_type": "display_data"
    },
    {
     "name": "stdout",
     "output_type": "stream",
     "text": [
      "Tell me the drivers that are German\n",
      "\n",
      "\n",
      "\u001b[1m> Entering new RetrievalQA chain...\u001b[0m\n",
      "\n",
      "\u001b[1m> Finished chain.\u001b[0m\n"
     ]
    },
    {
     "data": {
      "text/markdown": [
       "The drivers that are German are Heidfeld, Sutil, Glock, and Rosberg."
      ],
      "text/plain": [
       "<IPython.core.display.Markdown object>"
      ]
     },
     "metadata": {},
     "output_type": "display_data"
    },
    {
     "name": "stdout",
     "output_type": "stream",
     "text": [
      "Tell me the oldest driver.\n",
      "\n",
      "\n",
      "\u001b[1m> Entering new RetrievalQA chain...\u001b[0m\n",
      "\n",
      "\u001b[1m> Finished chain.\u001b[0m\n"
     ]
    },
    {
     "data": {
      "text/markdown": [
       "I'm sorry, but I don't have enough information to answer that question. The context provided only includes the birth dates of the drivers, but not their ages."
      ],
      "text/plain": [
       "<IPython.core.display.Markdown object>"
      ]
     },
     "metadata": {},
     "output_type": "display_data"
    },
    {
     "name": "stdout",
     "output_type": "stream",
     "text": [
      "which driver uses the number 14?\n",
      "\n",
      "\n",
      "\u001b[1m> Entering new RetrievalQA chain...\u001b[0m\n",
      "\n",
      "\u001b[1m> Finished chain.\u001b[0m\n"
     ]
    },
    {
     "data": {
      "text/markdown": [
       "The driver who uses the number 14 is Alonso."
      ],
      "text/plain": [
       "<IPython.core.display.Markdown object>"
      ]
     },
     "metadata": {},
     "output_type": "display_data"
    }
   ],
   "source": [
    "qa_stuff = RetrievalQA.from_chain_type(\n",
    "    llm=llm, \n",
    "    chain_type=\"stuff\", \n",
    "    retriever=retriever, \n",
    "    verbose=True\n",
    ")\n",
    "\n",
    "for query in queries:\n",
    "    print(query)\n",
    "    response = qa_stuff.run(query)\n",
    "    display(Markdown(response))\n"
   ]
  },
  {
   "cell_type": "code",
   "execution_count": 29,
   "metadata": {},
   "outputs": [],
   "source": [
    "index = VectorstoreIndexCreator(\n",
    "    vectorstore_cls=DocArrayInMemorySearch,\n",
    "    embedding=embeddings,\n",
    ").from_loaders([loader])"
   ]
  },
  {
   "cell_type": "code",
   "execution_count": 30,
   "metadata": {},
   "outputs": [
    {
     "name": "stdout",
     "output_type": "stream",
     "text": [
      "Tell me the youngest driver.\n",
      "I'm sorry, but I don't have enough information to answer your question. The context provided only includes the birth dates of the drivers, but not their ages.\n",
      "Tell me the drivers that are German\n",
      "The drivers that are German are: Nick Heidfeld, Adrian Sutil, Timo Glock, and Nico Rosberg.\n",
      "Tell me the oldest driver.\n",
      "I'm sorry, but I don't have enough information to answer that question. The context provided only includes the birth dates of the drivers, but not their ages.\n",
      "which driver uses the number 14?\n",
      "The driver who uses the number 14 is Fernando Alonso.\n"
     ]
    }
   ],
   "source": [
    "for query in queries:\n",
    "    print(query)\n",
    "    response = index.query(query, llm=llm)\n",
    "    print(response)\n",
    "\n"
   ]
  }
 ],
 "metadata": {
  "kernelspec": {
   "display_name": ".venv",
   "language": "python",
   "name": "python3"
  },
  "language_info": {
   "codemirror_mode": {
    "name": "ipython",
    "version": 3
   },
   "file_extension": ".py",
   "mimetype": "text/x-python",
   "name": "python",
   "nbconvert_exporter": "python",
   "pygments_lexer": "ipython3",
   "version": "3.11.2"
  },
  "orig_nbformat": 4
 },
 "nbformat": 4,
 "nbformat_minor": 2
}
