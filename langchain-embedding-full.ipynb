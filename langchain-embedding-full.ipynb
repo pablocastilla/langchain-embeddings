{
 "cells": [
  {
   "attachments": {},
   "cell_type": "markdown",
   "metadata": {},
   "source": [
    "# trying different methods of using LLM with Embeddings"
   ]
  },
  {
   "cell_type": "code",
   "execution_count": 37,
   "metadata": {},
   "outputs": [],
   "source": [
    "queries = [\"Tell me the name of every driver who is German\",\"how many german drivers are?\",  \"which driver uses the number 14?\", \"which driver has the oldest birthdate?\"]"
   ]
  },
  {
   "cell_type": "code",
   "execution_count": 38,
   "metadata": {},
   "outputs": [],
   "source": [
    "import os\n",
    "\n",
    "from dotenv import load_dotenv, find_dotenv\n",
    "asdf = load_dotenv(find_dotenv()) # read local .env file"
   ]
  },
  {
   "cell_type": "code",
   "execution_count": 39,
   "metadata": {},
   "outputs": [],
   "source": [
    "from langchain.document_loaders import CSVLoader\n",
    "from langchain.callbacks import get_openai_callback\n",
    "from langchain.chains import RetrievalQA\n",
    "from langchain.llms import OpenAI\n",
    "from langchain.vectorstores import Chroma\n"
   ]
  },
  {
   "cell_type": "code",
   "execution_count": 40,
   "metadata": {},
   "outputs": [
    {
     "name": "stdout",
     "output_type": "stream",
     "text": [
      "=====================================\n",
      "drivers.csv\n",
      "=====================================\n"
     ]
    },
    {
     "name": "stderr",
     "output_type": "stream",
     "text": [
      "Number of requested results 1000 is greater than number of elements in index 18, updating n_results = 18\n"
     ]
    },
    {
     "name": "stdout",
     "output_type": "stream",
     "text": [
      "Tell me the name of every driver who is German\n",
      "\n",
      "\n",
      "\u001b[1m> Entering new RetrievalQA chain...\u001b[0m\n",
      "\n",
      "\u001b[1m> Finished chain.\u001b[0m\n",
      " Nick Heidfeld, Nico Rosberg, Timo Glock, and Adrian Sutil.\n",
      "how many german drivers are?\n",
      "\n",
      "\n",
      "\u001b[1m> Entering new RetrievalQA chain...\u001b[0m\n"
     ]
    },
    {
     "name": "stderr",
     "output_type": "stream",
     "text": [
      "Number of requested results 1000 is greater than number of elements in index 18, updating n_results = 18\n"
     ]
    },
    {
     "name": "stdout",
     "output_type": "stream",
     "text": [
      "\n",
      "\u001b[1m> Finished chain.\u001b[0m\n",
      " 4 German drivers.\n",
      "which driver uses the number 14?\n",
      "\n",
      "\n",
      "\u001b[1m> Entering new RetrievalQA chain...\u001b[0m\n"
     ]
    },
    {
     "name": "stderr",
     "output_type": "stream",
     "text": [
      "Number of requested results 1000 is greater than number of elements in index 18, updating n_results = 18\n"
     ]
    },
    {
     "name": "stdout",
     "output_type": "stream",
     "text": [
      "\n",
      "\u001b[1m> Finished chain.\u001b[0m\n",
      " The driver using the number 14 is David Coulthard.\n",
      "which driver has the oldest birthdate?\n",
      "\n",
      "\n",
      "\u001b[1m> Entering new RetrievalQA chain...\u001b[0m\n"
     ]
    },
    {
     "name": "stderr",
     "output_type": "stream",
     "text": [
      "Number of requested results 1000 is greater than number of elements in index 18, updating n_results = 18\n"
     ]
    },
    {
     "name": "stdout",
     "output_type": "stream",
     "text": [
      "\n",
      "\u001b[1m> Finished chain.\u001b[0m\n",
      " The driver with the oldest birthdate is 27/03/1971.\n",
      "Tokens Used: 13866\n",
      "\tPrompt Tokens: 13339\n",
      "\tCompletion Tokens: 527\n",
      "Successful Requests: 8\n",
      "Total Cost (USD): $0.27732\n",
      "=====================================\n",
      "drivers_full.csv\n",
      "=====================================\n"
     ]
    },
    {
     "name": "stderr",
     "output_type": "stream",
     "text": [
      "Number of requested results 1000 is greater than number of elements in index 857, updating n_results = 857\n"
     ]
    },
    {
     "name": "stdout",
     "output_type": "stream",
     "text": [
      "Tell me the name of every driver who is German\n",
      "\n",
      "\n",
      "\u001b[1m> Entering new RetrievalQA chain...\u001b[0m\n"
     ]
    },
    {
     "name": "stderr",
     "output_type": "stream",
     "text": [
      "Number of requested results 1000 is greater than number of elements in index 857, updating n_results = 857\n"
     ]
    },
    {
     "name": "stdout",
     "output_type": "stream",
     "text": [
      "\n",
      "\u001b[1m> Finished chain.\u001b[0m\n",
      " Kurt Kuhnke, Hans Herrmann, Hans Heyer, Joachim Winkelhock, Hans Klenk, Volker Weidler, Manfred Winkelhock, Pascal Wehrlein, Ralf Schumacher, Bernd Schneider, Heinz-Harald Frentzen, Michael Schumacher, Ernst Klodwig, Kurt Ahrens, Michael Bartels, Theo Helfrich, Gerhard Mitter, Rolf Stommelen, Markus Winkelhock, Paul Pietsch, Wolfgang Seidel, Rudolf Krause, Jochen Mass, Toni Ulmen, Wolfgang von Trips, Josef Peters, Hubert Hahne, Karl Kling, Hermann Lang, Helmut Niedermayr, Hans-Joachim Stuck, Günther Seiffert, Nick Heidfeld, Fritz Riess, Günther Bechem, Kurt Adolff, Mick Schumacher, Sebastian Vettel, Theo Fitzau, Erwin Bauer, Siegfried Stohr, Willi Heeks, Adolf Brudes, Christian Danner, Hans von Stuck, Edgar Barth, Brausch Niemann, Nico Hülkenberg, Nico Ros\n",
      "how many german drivers are?\n",
      "\n",
      "\n",
      "\u001b[1m> Entering new RetrievalQA chain...\u001b[0m\n"
     ]
    },
    {
     "name": "stderr",
     "output_type": "stream",
     "text": [
      "Number of requested results 1000 is greater than number of elements in index 857, updating n_results = 857\n"
     ]
    },
    {
     "name": "stdout",
     "output_type": "stream",
     "text": [
      "\n",
      "\u001b[1m> Finished chain.\u001b[0m\n",
      " I don't know.\n",
      "which driver uses the number 14?\n",
      "\n",
      "\n",
      "\u001b[1m> Entering new RetrievalQA chain...\u001b[0m\n"
     ]
    },
    {
     "name": "stderr",
     "output_type": "stream",
     "text": [
      "Number of requested results 1000 is greater than number of elements in index 857, updating n_results = 857\n"
     ]
    },
    {
     "name": "stdout",
     "output_type": "stream",
     "text": [
      "\n",
      "\u001b[1m> Finished chain.\u001b[0m\n",
      " No driver uses the number 14.\n",
      "which driver has the oldest birthdate?\n",
      "\n",
      "\n",
      "\u001b[1m> Entering new RetrievalQA chain...\u001b[0m\n",
      "\n",
      "\u001b[1m> Finished chain.\u001b[0m\n",
      " The driver with the oldest birthdate is Frank Armi, born on 1918-10-12.\n",
      "Tokens Used: 405259\n",
      "\tPrompt Tokens: 385674\n",
      "\tCompletion Tokens: 19585\n",
      "Successful Requests: 25\n",
      "Total Cost (USD): $8.105180000000002\n"
     ]
    }
   ],
   "source": [
    "files = ['drivers.csv','drivers_full.csv']\n",
    "\n",
    "for file in files:\n",
    "    print(\"=====================================\")\n",
    "    print(file)\n",
    "    print(\"=====================================\")\n",
    "    with get_openai_callback() as cb:\n",
    "\n",
    "        loader = CSVLoader(file_path=file,encoding='utf-8')\n",
    "        docs = loader.load()\n",
    "\n",
    "        from langchain.embeddings.openai import OpenAIEmbeddings\n",
    "\n",
    "        embeddings = OpenAIEmbeddings()\n",
    "\n",
    "        # create the vectorestore to use as the index\n",
    "        db = Chroma.from_documents(docs, embeddings)\n",
    "        # expose this index in a retriever interface\n",
    "        retriever = db.as_retriever(search_type=\"similarity\", search_kwargs={\"k\":1000, \"score_threshold\":\"0.2\"})\n",
    "\n",
    "        for query in queries:\n",
    "            qa_stuff = RetrievalQA.from_chain_type(\n",
    "                llm=OpenAI(temperature=0,batch_size=20), \n",
    "                chain_type=\"map_reduce\", \n",
    "                retriever=retriever,\n",
    "                verbose=True\n",
    "            )\n",
    "\n",
    "            print(query)\n",
    "            result = qa_stuff.run(query)\n",
    "\n",
    "            print(result)\n",
    "            \n",
    "        print(cb)\n",
    "\n",
    "\n"
   ]
  }
 ],
 "metadata": {
  "kernelspec": {
   "display_name": ".venv",
   "language": "python",
   "name": "python3"
  },
  "language_info": {
   "codemirror_mode": {
    "name": "ipython",
    "version": 3
   },
   "file_extension": ".py",
   "mimetype": "text/x-python",
   "name": "python",
   "nbconvert_exporter": "python",
   "pygments_lexer": "ipython3",
   "version": "3.11.2"
  },
  "orig_nbformat": 4
 },
 "nbformat": 4,
 "nbformat_minor": 2
}
