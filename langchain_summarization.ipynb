{
 "cells": [
  {
   "cell_type": "code",
   "execution_count": 31,
   "metadata": {},
   "outputs": [],
   "source": [
    "text = \"\"\"\n",
    "La energía solar es una de las formas más efectivas y sostenibles de producir energía en nuestro planeta. Este tipo de energía se basa en la captación de la luz y el calor que emite el sol, y su transformación en electricidad que puede ser utilizada para alimentar nuestros hogares, industrias y en general, todas las actividades humanas que requieran de energía.\n",
    "\n",
    "Primero, es importante entender cómo se genera la energía solar. Los paneles solares, compuestos por células fotovoltaicas, son los instrumentos clave en este proceso. Cuando los rayos del sol impactan sobre estas células, liberan electrones que generan una corriente eléctrica, la cual puede ser almacenada o convertida para su uso inmediato.\n",
    "\n",
    "El principal beneficio de la energía solar es su carácter renovable. El sol, a diferencia de los combustibles fósiles, es una fuente de energía inagotable, siempre disponible y accesible para todos los habitantes del planeta. Esto la convierte en una alternativa sostenible y amigable con el medio ambiente.\n",
    "\n",
    "Además, la energía solar es una opción económica en el largo plazo. A pesar de la inversión inicial para la instalación de los paneles, el mantenimiento de estos sistemas es relativamente bajo. Además, al producir nuestra propia energía, reducimos la dependencia de las compañías eléctricas y disminuimos nuestra factura de luz.\n",
    "\n",
    "La energía solar también puede contribuir a la lucha contra el cambio climático. Su utilización evita la emisión de gases de efecto invernadero que resultan de la quema de combustibles fósiles. Asimismo, la fabricación de paneles solares requiere mucha menos energía y recursos que la construcción de infraestructuras para energías no renovables, como las plantas de carbón o de gas natural.\n",
    "\n",
    "Sin embargo, también existen desafíos en la implementación de la energía solar. El principal obstáculo es su dependencia de las condiciones climáticas: la producción de energía puede ser inconstante en días nublados o durante la noche. Esto ha llevado a la necesidad de desarrollar sistemas de almacenamiento de energía más eficientes y económicos.\n",
    "\n",
    "Otro desafío es la necesidad de espacios grandes para la instalación de paneles solares, especialmente en ciudades densamente pobladas. Aunque cada vez más edificios incorporan paneles en sus techos, aún queda mucho por hacer para maximizar el uso de espacios urbanos.\n",
    "\n",
    "A pesar de estos desafíos, la energía solar tiene un enorme potencial. El avance tecnológico continuo promete mejorar la eficiencia de los paneles solares y reducir sus costos, haciendo la energía solar aún más accesible.\n",
    "\n",
    "En conclusión, la energía solar es un recurso valioso que nos permite aprovechar de manera eficiente y sostenible el poder del sol. A pesar de los desafíos que presenta, la inversión en esta fuente de energía puede resultar en beneficios significativos para el medio ambiente y la economía, además de contribuir a la seguridad energética. A medida que la humanidad se esfuerza por encontrar formas de energía más limpias y sostenibles, la energía solar se perfila como una solución prometedora y vital para un futuro más verde.\n",
    "\n",
    "\"\"\""
   ]
  },
  {
   "cell_type": "code",
   "execution_count": 32,
   "metadata": {},
   "outputs": [
    {
     "name": "stderr",
     "output_type": "stream",
     "text": [
      "c:\\code\\langchain-embeddings\\.venv\\Lib\\site-packages\\langchain\\llms\\openai.py:769: UserWarning: You are trying to use a chat model. This way of initializing it is no longer supported. Instead, please use: `from langchain.chat_models import ChatOpenAI`\n",
      "  warnings.warn(\n"
     ]
    },
    {
     "name": "stdout",
     "output_type": "stream",
     "text": [
      "\u001b[1mOpenAIChat\u001b[0m\n",
      "Params: {'model_name': 'gpt-3.5-turbo', 'model': 'gpt-3.5-turbo', 'temperature': 0}\n",
      "\n",
      "\n",
      "\u001b[1m> Entering new  chain...\u001b[0m\n",
      "Prompt after formatting:\n",
      "\u001b[32;1m\u001b[1;3mEscribe un resumen conciso del siguiente texto:\n",
      "\n",
      "\n",
      "    \n",
      "La energía solar es una de las formas más efectivas y sostenibles de producir energía en nuestro planeta. Este tipo de energía se basa en la captación de la luz y el calor que emite el sol, y su transformación en electricidad que puede ser utilizada para alimentar nuestros hogares, industrias y en general, todas las actividades humanas que requieran de energía.\n",
      "\n",
      "Primero, es importante entender cómo se genera la energía solar. Los paneles solares, compuestos por células fotovoltaicas, son los instrumentos clave en este proceso. Cuando los rayos del sol impactan sobre estas células, liberan electrones que generan una corriente eléctrica, la cual puede ser almacenada o convertida para su uso inmediato.\n",
      "\n",
      "El principal beneficio de la energía solar es su carácter renovable. El sol, a diferencia de los combustibles fósiles, es una fuente de energía inagotable, siempre disponible y accesible para todos los habitantes del planeta. Esto la convierte en una alternativa sostenible y amigable con el medio ambiente.\n",
      "\n",
      "Además, la energía solar es una opción económica en el largo plazo. A pesar de la inversión inicial para la instalación de los paneles, el mantenimiento de estos sistemas es relativamente bajo. Además, al producir nuestra propia energía, reducimos la dependencia de las compañías eléctricas y disminuimos nuestra factura de luz.\n",
      "\n",
      "La energía solar también puede contribuir a la lucha contra el cambio climático. Su utilización evita la emisión de gases de efecto invernadero que resultan de la quema de combustibles fósiles. Asimismo, la fabricación de paneles solares requiere mucha menos energía y recursos que la construcción de infraestructuras para energías no renovables, como las plantas de carbón o de gas natural.\n",
      "\n",
      "Sin embargo, también existen desafíos en la implementación de la energía solar. El principal obstáculo es su dependencia de las condiciones climáticas: la producción de energía puede ser inconstante en días nublados o durante la noche. Esto ha llevado a la necesidad de desarrollar sistemas de almacenamiento de energía más eficientes y económicos.\n",
      "\n",
      "Otro desafío es la necesidad de espacios grandes para la instalación de paneles solares, especialmente en ciudades densamente pobladas. Aunque cada vez más edificios incorporan paneles en sus techos, aún queda mucho por hacer para maximizar el uso de espacios urbanos.\n",
      "\n",
      "A pesar de estos desafíos, la energía solar tiene un enorme potencial. El avance tecnológico continuo promete mejorar la eficiencia de los paneles solares y reducir sus costos, haciendo la energía solar aún más accesible.\n",
      "\n",
      "En conclusión, la energía solar es un recurso valioso que nos permite aprovechar de manera eficiente y sostenible el poder del sol. A pesar de los desafíos que presenta, la inversión en esta fuente de energía puede resultar en beneficios significativos para el medio ambiente y la economía, además de contribuir a la seguridad energética. A medida que la humanidad se esfuerza por encontrar formas de energía más limpias y sostenibles, la energía solar se perfila como una solución prometedora y vital para un futuro más verde.\n",
      "\n",
      "\n",
      "\n",
      "\n",
      "    RESUMEN:\u001b[0m\n",
      "\n",
      "\u001b[1m> Finished chain.\u001b[0m\n",
      "La energía solar es una forma efectiva y sostenible de producir energía. Se basa en la captación de la luz y el calor del sol para convertirlo en electricidad. Es renovable, económica a largo plazo y contribuye a la lucha contra el cambio climático. Sin embargo, presenta desafíos como la dependencia de las condiciones climáticas y la necesidad de espacios grandes para la instalación de paneles solares. A pesar de esto, la energía solar tiene un gran potencial y se perfila como una solución prometedora para un futuro más verde.\n",
      "Tokens Used: 911\n",
      "\tPrompt Tokens: 779\n",
      "\tCompletion Tokens: 132\n",
      "Successful Requests: 1\n",
      "Total Cost (USD): $0.0014325000000000002\n"
     ]
    }
   ],
   "source": [
    "from langchain import PromptTemplate, LLMChain\n",
    "from langchain.text_splitter import CharacterTextSplitter\n",
    "from langchain.prompts import PromptTemplate\n",
    "from langchain.callbacks import get_openai_callback\n",
    "from langchain.llms import OpenAIChat\n",
    "\n",
    "llm = OpenAIChat(model=\"gpt-3.5-turbo\",temperature=0)\n",
    "print(llm)\n",
    "\n",
    "with get_openai_callback() as cb:\n",
    "    text_splitter = CharacterTextSplitter()\n",
    "    from langchain.docstore.document import Document\n",
    "    texts = text_splitter.split_text(text)\n",
    "    docs = [Document(page_content=t) for t in texts[:3]]\n",
    "\n",
    "    prompt_template = \"\"\"Escribe un resumen conciso del siguiente texto:\n",
    "\n",
    "\n",
    "    {text}\n",
    "\n",
    "\n",
    "    RESUMEN:\"\"\"\n",
    "\n",
    "    PROMPT = PromptTemplate(template=prompt_template, input_variables=[\"text\"])\n",
    "    chain = LLMChain(llm=llm, prompt=PROMPT, verbose=True)\n",
    "    print(chain.run({'text': text}))\n",
    "    print(cb)"
   ]
  }
 ],
 "metadata": {
  "kernelspec": {
   "display_name": ".venv",
   "language": "python",
   "name": "python3"
  },
  "language_info": {
   "codemirror_mode": {
    "name": "ipython",
    "version": 3
   },
   "file_extension": ".py",
   "mimetype": "text/x-python",
   "name": "python",
   "nbconvert_exporter": "python",
   "pygments_lexer": "ipython3",
   "version": "3.11.2"
  },
  "orig_nbformat": 4
 },
 "nbformat": 4,
 "nbformat_minor": 2
}
