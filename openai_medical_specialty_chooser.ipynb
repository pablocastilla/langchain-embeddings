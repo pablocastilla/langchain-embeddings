{
 "cells": [
  {
   "attachments": {},
   "cell_type": "markdown",
   "metadata": {},
   "source": [
    "In this notebook I will try to create a medical specialty chooser in which the patient introduces his symptoms and the model will predict the medical specialty that the patient should go to."
   ]
  },
  {
   "cell_type": "code",
   "execution_count": 9,
   "metadata": {},
   "outputs": [
    {
     "name": "stdout",
     "output_type": "stream",
     "text": [
      "\n",
      "Cardiology\n",
      "\n"
     ]
    }
   ],
   "source": [
    "import os\n",
    "import openai\n",
    "\n",
    "\n",
    "conversation=[{\"role\": \"system\", \"content\": \"You are a medical expert.You will receive the symptoms and will tell the medical specialty the patient should go to.If you don´t know say 'don´t know'.Just return the name of the medical specialty\"}]\n",
    "\n",
    "    \n",
    "conversation.append({\"role\": \"user\", \"content\": \"i have ache in my chest and in my left arm\"})\n",
    "\n",
    "response = openai.ChatCompletion.create(\n",
    "    model='gpt-3.5-turbo',\n",
    "    messages=conversation)\n",
    "\n",
    "conversation.append({\"role\": \"assistant\", \"content\": response['choices'][0]['message']['content']})\n",
    "print(\"\\n\" + response['choices'][0]['message']['content'] + \"\\n\")"
   ]
  }
 ],
 "metadata": {
  "kernelspec": {
   "display_name": ".venv",
   "language": "python",
   "name": "python3"
  },
  "language_info": {
   "codemirror_mode": {
    "name": "ipython",
    "version": 3
   },
   "file_extension": ".py",
   "mimetype": "text/x-python",
   "name": "python",
   "nbconvert_exporter": "python",
   "pygments_lexer": "ipython3",
   "version": "3.11.2"
  },
  "orig_nbformat": 4
 },
 "nbformat": 4,
 "nbformat_minor": 2
}
