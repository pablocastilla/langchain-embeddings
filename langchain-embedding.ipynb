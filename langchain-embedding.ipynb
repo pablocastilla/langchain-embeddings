{
 "cells": [
  {
   "attachments": {},
   "cell_type": "markdown",
   "metadata": {},
   "source": [
    "# trying different methods of using LLM with Embeddings"
   ]
  },
  {
   "cell_type": "code",
   "execution_count": 1,
   "metadata": {},
   "outputs": [],
   "source": [
    "import os\n",
    "\n",
    "from dotenv import load_dotenv, find_dotenv\n",
    "asdf = load_dotenv(find_dotenv()) # read local .env file"
   ]
  },
  {
   "cell_type": "code",
   "execution_count": 2,
   "metadata": {},
   "outputs": [],
   "source": [
    "from langchain.chains import RetrievalQA\n",
    "from langchain.chat_models import ChatOpenAI\n",
    "from langchain.document_loaders import CSVLoader\n",
    "from langchain.vectorstores import DocArrayInMemorySearch\n",
    "from IPython.display import display, Markdown\n"
   ]
  },
  {
   "cell_type": "code",
   "execution_count": 3,
   "metadata": {},
   "outputs": [],
   "source": [
    "file = 'drivers.csv'\n",
    "loader = CSVLoader(file_path=file,encoding='utf-8')"
   ]
  },
  {
   "cell_type": "code",
   "execution_count": 4,
   "metadata": {},
   "outputs": [],
   "source": [
    "from langchain.indexes import VectorstoreIndexCreator\n",
    "index = VectorstoreIndexCreator(\n",
    "    vectorstore_cls=DocArrayInMemorySearch\n",
    ").from_loaders([loader])"
   ]
  },
  {
   "cell_type": "code",
   "execution_count": 5,
   "metadata": {},
   "outputs": [
    {
     "data": {
      "text/markdown": [
       " The youngest driver is Nelson Piquet Jr. with a date of birth of 25/07/1985."
      ],
      "text/plain": [
       "<IPython.core.display.Markdown object>"
      ]
     },
     "metadata": {},
     "output_type": "display_data"
    },
    {
     "data": {
      "text/markdown": [
       " Nick Heidfeld, Timo Glock, Adrian Sutil, and Nico Rosberg are all German drivers."
      ],
      "text/plain": [
       "<IPython.core.display.Markdown object>"
      ]
     },
     "metadata": {},
     "output_type": "display_data"
    },
    {
     "data": {
      "text/markdown": [
       " Four."
      ],
      "text/plain": [
       "<IPython.core.display.Markdown object>"
      ]
     },
     "metadata": {},
     "output_type": "display_data"
    },
    {
     "data": {
      "text/markdown": [
       " The oldest driver is Takuma Sato with a date of birth of 28/01/1977."
      ],
      "text/plain": [
       "<IPython.core.display.Markdown object>"
      ]
     },
     "metadata": {},
     "output_type": "display_data"
    },
    {
     "data": {
      "text/markdown": [
       " Fernando Alonso."
      ],
      "text/plain": [
       "<IPython.core.display.Markdown object>"
      ]
     },
     "metadata": {},
     "output_type": "display_data"
    },
    {
     "data": {
      "text/markdown": [
       " Fernando Alonso, with a birthdate of 29/07/1981."
      ],
      "text/plain": [
       "<IPython.core.display.Markdown object>"
      ]
     },
     "metadata": {},
     "output_type": "display_data"
    },
    {
     "data": {
      "text/plain": [
       "[None, None, None, None, None, None]"
      ]
     },
     "execution_count": 5,
     "metadata": {},
     "output_type": "execute_result"
    }
   ],
   "source": [
    "queries = [\"Tell me the youngest driver.\",\"Tell me every driver that is German\",\"how many german drivers are?\", \"Tell me the oldest driver.\", \"which driver uses the number 14?\", \"which driver has the oldest birthdate?\"]\n",
    "responses = list(map(lambda query:index.query(query),queries))\n",
    "[display(Markdown(r)) for r in responses]"
   ]
  },
  {
   "cell_type": "code",
   "execution_count": 6,
   "metadata": {},
   "outputs": [],
   "source": [
    "docs = loader.load()"
   ]
  },
  {
   "cell_type": "code",
   "execution_count": 7,
   "metadata": {},
   "outputs": [],
   "source": [
    "from langchain.embeddings import OpenAIEmbeddings\n",
    "embeddings = OpenAIEmbeddings()"
   ]
  },
  {
   "cell_type": "code",
   "execution_count": 8,
   "metadata": {},
   "outputs": [],
   "source": [
    "db = DocArrayInMemorySearch.from_documents(\n",
    "    docs, \n",
    "    embeddings\n",
    ")"
   ]
  },
  {
   "cell_type": "code",
   "execution_count": 9,
   "metadata": {},
   "outputs": [
    {
     "name": "stdout",
     "output_type": "stream",
     "text": [
      "Tell me the youngest driver.\n",
      "[Document(page_content='driverId: 12\\nname: piquet_jr\\nnumber: \\ncode: PIQ\\nforename: Nelson\\nsurname: Piquet Jr.\\ndate of birth: 25/07/1985\\nnationality: Brazilian', metadata={'source': 'drivers.csv', 'row': 3}), Document(page_content='driverId: 5\\nname: kovalainen\\nnumber: \\ncode: KOV\\nforename: Heikki\\nsurname: Kovalainen\\ndate of birth: 19/10/1981\\nnationality: Finnish', metadata={'source': 'drivers.csv', 'row': 5}), Document(page_content='driverId: 8\\nname: raikkonen\\nnumber: 7\\ncode: RAI\\nforename: Kimi\\nsurname: R�_ikk̦nen\\ndate of birth: 17/10/1979\\nnationality: Finnish', metadata={'source': 'drivers.csv', 'row': 8}), Document(page_content='driverId: 3\\nname: rosberg\\nnumber: 6\\ncode: ROS\\nforename: Nico\\nsurname: Rosberg\\ndate of birth: 27/06/1985\\nnationality: German', metadata={'source': 'drivers.csv', 'row': 2})]\n",
      "\n",
      "Tell me every driver that is German\n",
      "[Document(page_content='driverId: 2\\nname: heidfeld\\nnumber: \\ncode: HEI\\nforename: Nick\\nsurname: Heidfeld\\ndate of birth: 10/05/1977\\nnationality: German', metadata={'source': 'drivers.csv', 'row': 1}), Document(page_content='driverId: 10\\nname: glock\\nnumber: \\ncode: GLO\\nforename: Timo\\nsurname: Glock\\ndate of birth: 18/03/1982\\nnationality: German', metadata={'source': 'drivers.csv', 'row': 10}), Document(page_content='driverId: 16\\nname: sutil\\nnumber: 99\\ncode: SUT\\nforename: Adrian\\nsurname: Sutil\\ndate of birth: 11/01/1983\\nnationality: German', metadata={'source': 'drivers.csv', 'row': 15}), Document(page_content='driverId: 3\\nname: rosberg\\nnumber: 6\\ncode: ROS\\nforename: Nico\\nsurname: Rosberg\\ndate of birth: 27/06/1985\\nnationality: German', metadata={'source': 'drivers.csv', 'row': 2})]\n",
      "\n",
      "how many german drivers are?\n",
      "[Document(page_content='driverId: 2\\nname: heidfeld\\nnumber: \\ncode: HEI\\nforename: Nick\\nsurname: Heidfeld\\ndate of birth: 10/05/1977\\nnationality: German', metadata={'source': 'drivers.csv', 'row': 1}), Document(page_content='driverId: 10\\nname: glock\\nnumber: \\ncode: GLO\\nforename: Timo\\nsurname: Glock\\ndate of birth: 18/03/1982\\nnationality: German', metadata={'source': 'drivers.csv', 'row': 10}), Document(page_content='driverId: 16\\nname: sutil\\nnumber: 99\\ncode: SUT\\nforename: Adrian\\nsurname: Sutil\\ndate of birth: 11/01/1983\\nnationality: German', metadata={'source': 'drivers.csv', 'row': 15}), Document(page_content='driverId: 3\\nname: rosberg\\nnumber: 6\\ncode: ROS\\nforename: Nico\\nsurname: Rosberg\\ndate of birth: 27/06/1985\\nnationality: German', metadata={'source': 'drivers.csv', 'row': 2})]\n",
      "\n",
      "Tell me the oldest driver.\n",
      "[Document(page_content='driverId: 4\\nname: alonso\\nnumber: 14\\ncode: ALO\\nforename: Fernando\\nsurname: Alonso\\ndate of birth: 29/07/1981\\nnationality: Spanish', metadata={'source': 'drivers.csv', 'row': 4}), Document(page_content='driverId: 1\\nname: hamilton\\nnumber: 44\\ncode: HAM\\nforename: Lewis\\nsurname: Hamilton\\ndate of birth: 07/01/1985\\nnationality: British', metadata={'source': 'drivers.csv', 'row': 0}), Document(page_content='driverId: 11\\nname: sato\\nnumber: \\ncode: SAT\\nforename: Takuma\\nsurname: Sato\\ndate of birth: 28/01/1977\\nnationality: Japanese', metadata={'source': 'drivers.csv', 'row': 11}), Document(page_content='driverId: 7\\nname: bourdais\\nnumber: \\ncode: BOU\\nforename: S̩bastien\\nsurname: Bourdais\\ndate of birth: 28/02/1979\\nnationality: French', metadata={'source': 'drivers.csv', 'row': 7})]\n",
      "\n",
      "which driver uses the number 14?\n",
      "[Document(page_content='driverId: 4\\nname: alonso\\nnumber: 14\\ncode: ALO\\nforename: Fernando\\nsurname: Alonso\\ndate of birth: 29/07/1981\\nnationality: Spanish', metadata={'source': 'drivers.csv', 'row': 4}), Document(page_content='driverId: 12\\nname: piquet_jr\\nnumber: \\ncode: PIQ\\nforename: Nelson\\nsurname: Piquet Jr.\\ndate of birth: 25/07/1985\\nnationality: Brazilian', metadata={'source': 'drivers.csv', 'row': 3}), Document(page_content='driverId: 7\\nname: bourdais\\nnumber: \\ncode: BOU\\nforename: S̩bastien\\nsurname: Bourdais\\ndate of birth: 28/02/1979\\nnationality: French', metadata={'source': 'drivers.csv', 'row': 7}), Document(page_content='driverId: 1\\nname: hamilton\\nnumber: 44\\ncode: HAM\\nforename: Lewis\\nsurname: Hamilton\\ndate of birth: 07/01/1985\\nnationality: British', metadata={'source': 'drivers.csv', 'row': 0})]\n",
      "\n",
      "which driver has the oldest birthdate?\n",
      "[Document(page_content='driverId: 4\\nname: alonso\\nnumber: 14\\ncode: ALO\\nforename: Fernando\\nsurname: Alonso\\ndate of birth: 29/07/1981\\nnationality: Spanish', metadata={'source': 'drivers.csv', 'row': 4}), Document(page_content='driverId: 1\\nname: hamilton\\nnumber: 44\\ncode: HAM\\nforename: Lewis\\nsurname: Hamilton\\ndate of birth: 07/01/1985\\nnationality: British', metadata={'source': 'drivers.csv', 'row': 0}), Document(page_content='driverId: 7\\nname: bourdais\\nnumber: \\ncode: BOU\\nforename: S̩bastien\\nsurname: Bourdais\\ndate of birth: 28/02/1979\\nnationality: French', metadata={'source': 'drivers.csv', 'row': 7}), Document(page_content='driverId: 3\\nname: rosberg\\nnumber: 6\\ncode: ROS\\nforename: Nico\\nsurname: Rosberg\\ndate of birth: 27/06/1985\\nnationality: German', metadata={'source': 'drivers.csv', 'row': 2})]\n",
      "\n"
     ]
    }
   ],
   "source": [
    "for query in queries:\n",
    "    print(query)\n",
    "    print(db.similarity_search(query))\n",
    "    print()\n"
   ]
  },
  {
   "cell_type": "code",
   "execution_count": 10,
   "metadata": {},
   "outputs": [],
   "source": [
    "retriever = db.as_retriever()"
   ]
  },
  {
   "cell_type": "code",
   "execution_count": 11,
   "metadata": {},
   "outputs": [],
   "source": [
    "llm = ChatOpenAI(temperature = 0.0)"
   ]
  },
  {
   "cell_type": "code",
   "execution_count": 12,
   "metadata": {},
   "outputs": [
    {
     "name": "stdout",
     "output_type": "stream",
     "text": [
      "Tell me the youngest driver.\n"
     ]
    },
    {
     "data": {
      "text/markdown": [
       "The youngest driver is Nico Rosberg with a date of birth of 27/06/1985."
      ],
      "text/plain": [
       "<IPython.core.display.Markdown object>"
      ]
     },
     "metadata": {},
     "output_type": "display_data"
    },
    {
     "name": "stdout",
     "output_type": "stream",
     "text": [
      "Tell me every driver that is German\n"
     ]
    },
    {
     "data": {
      "text/markdown": [
       "heidfeld, rosberg, nakajima, glock, sutil"
      ],
      "text/plain": [
       "<IPython.core.display.Markdown object>"
      ]
     },
     "metadata": {},
     "output_type": "display_data"
    },
    {
     "name": "stdout",
     "output_type": "stream",
     "text": [
      "how many german drivers are?\n"
     ]
    },
    {
     "data": {
      "text/markdown": [
       "There are three German drivers."
      ],
      "text/plain": [
       "<IPython.core.display.Markdown object>"
      ]
     },
     "metadata": {},
     "output_type": "display_data"
    },
    {
     "name": "stdout",
     "output_type": "stream",
     "text": [
      "Tell me the oldest driver.\n"
     ]
    },
    {
     "data": {
      "text/markdown": [
       "The oldest driver is David Coulthard with a date of birth of 27/03/1971."
      ],
      "text/plain": [
       "<IPython.core.display.Markdown object>"
      ]
     },
     "metadata": {},
     "output_type": "display_data"
    },
    {
     "name": "stdout",
     "output_type": "stream",
     "text": [
      "which driver uses the number 14?\n"
     ]
    },
    {
     "data": {
      "text/markdown": [
       "Fernando Alonso uses the number 14."
      ],
      "text/plain": [
       "<IPython.core.display.Markdown object>"
      ]
     },
     "metadata": {},
     "output_type": "display_data"
    },
    {
     "name": "stdout",
     "output_type": "stream",
     "text": [
      "which driver has the oldest birthdate?\n"
     ]
    },
    {
     "data": {
      "text/markdown": [
       "David Coulthard has the oldest birthdate, which is 27/03/1971."
      ],
      "text/plain": [
       "<IPython.core.display.Markdown object>"
      ]
     },
     "metadata": {},
     "output_type": "display_data"
    }
   ],
   "source": [
    "if file == 'drivers.csv':\n",
    "    qdocs = \"\".join([docs[i].page_content for i in range(len(docs))])\n",
    "\n",
    "    for query in queries:\n",
    "        print(query)\n",
    "        response = llm.call_as_llm(f\"{qdocs} Question: {query}\") \n",
    "        display(Markdown(response))\n"
   ]
  },
  {
   "cell_type": "code",
   "execution_count": 13,
   "metadata": {},
   "outputs": [
    {
     "name": "stdout",
     "output_type": "stream",
     "text": [
      "Tell me the youngest driver.\n",
      "\n",
      "\n",
      "\u001b[1m> Entering new RetrievalQA chain...\u001b[0m\n",
      "\n",
      "\u001b[1m> Finished chain.\u001b[0m\n"
     ]
    },
    {
     "data": {
      "text/markdown": [
       "I'm sorry, but I don't have enough information to answer your question. The context only provides the birth dates of the drivers, but not their ages."
      ],
      "text/plain": [
       "<IPython.core.display.Markdown object>"
      ]
     },
     "metadata": {},
     "output_type": "display_data"
    },
    {
     "name": "stdout",
     "output_type": "stream",
     "text": [
      "Tell me every driver that is German\n",
      "\n",
      "\n",
      "\u001b[1m> Entering new RetrievalQA chain...\u001b[0m\n",
      "\n",
      "\u001b[1m> Finished chain.\u001b[0m\n"
     ]
    },
    {
     "data": {
      "text/markdown": [
       "The drivers that are German are:\n",
       "- Nick Heidfeld\n",
       "- Timo Glock\n",
       "- Adrian Sutil\n",
       "- Nico Rosberg"
      ],
      "text/plain": [
       "<IPython.core.display.Markdown object>"
      ]
     },
     "metadata": {},
     "output_type": "display_data"
    },
    {
     "name": "stdout",
     "output_type": "stream",
     "text": [
      "how many german drivers are?\n",
      "\n",
      "\n",
      "\u001b[1m> Entering new RetrievalQA chain...\u001b[0m\n",
      "\n",
      "\u001b[1m> Finished chain.\u001b[0m\n"
     ]
    },
    {
     "data": {
      "text/markdown": [
       "There are four German drivers listed in the given context."
      ],
      "text/plain": [
       "<IPython.core.display.Markdown object>"
      ]
     },
     "metadata": {},
     "output_type": "display_data"
    },
    {
     "name": "stdout",
     "output_type": "stream",
     "text": [
      "Tell me the oldest driver.\n",
      "\n",
      "\n",
      "\u001b[1m> Entering new RetrievalQA chain...\u001b[0m\n",
      "\n",
      "\u001b[1m> Finished chain.\u001b[0m\n"
     ]
    },
    {
     "data": {
      "text/markdown": [
       "I'm sorry, but I don't have enough information to answer that question. The context only provides the birth dates of the drivers, but not their ages."
      ],
      "text/plain": [
       "<IPython.core.display.Markdown object>"
      ]
     },
     "metadata": {},
     "output_type": "display_data"
    },
    {
     "name": "stdout",
     "output_type": "stream",
     "text": [
      "which driver uses the number 14?\n",
      "\n",
      "\n",
      "\u001b[1m> Entering new RetrievalQA chain...\u001b[0m\n",
      "\n",
      "\u001b[1m> Finished chain.\u001b[0m\n"
     ]
    },
    {
     "data": {
      "text/markdown": [
       "The driver with the number 14 is Alonso."
      ],
      "text/plain": [
       "<IPython.core.display.Markdown object>"
      ]
     },
     "metadata": {},
     "output_type": "display_data"
    },
    {
     "name": "stdout",
     "output_type": "stream",
     "text": [
      "which driver has the oldest birthdate?\n",
      "\n",
      "\n",
      "\u001b[1m> Entering new RetrievalQA chain...\u001b[0m\n",
      "\n",
      "\u001b[1m> Finished chain.\u001b[0m\n"
     ]
    },
    {
     "data": {
      "text/markdown": [
       "The driver with the oldest birthdate is Alonso, with a birthdate of 29/07/1981."
      ],
      "text/plain": [
       "<IPython.core.display.Markdown object>"
      ]
     },
     "metadata": {},
     "output_type": "display_data"
    }
   ],
   "source": [
    "qa_stuff = RetrievalQA.from_chain_type(\n",
    "    llm=llm, \n",
    "    chain_type=\"stuff\", \n",
    "    retriever=retriever, \n",
    "    verbose=True\n",
    ")\n",
    "\n",
    "for query in queries:\n",
    "    print(query)\n",
    "    response = qa_stuff.run(query)\n",
    "    display(Markdown(response))\n"
   ]
  },
  {
   "cell_type": "code",
   "execution_count": 14,
   "metadata": {},
   "outputs": [
    {
     "name": "stdout",
     "output_type": "stream",
     "text": [
      "Tell me the youngest driver.\n",
      "\n",
      "\n",
      "\u001b[1m> Entering new RetrievalQA chain...\u001b[0m\n",
      "\n",
      "\u001b[1m> Finished chain.\u001b[0m\n"
     ]
    },
    {
     "data": {
      "text/markdown": [
       "Sorry, I cannot determine the youngest driver as the given portion of the document does not provide information about the age or birthdate of any driver."
      ],
      "text/plain": [
       "<IPython.core.display.Markdown object>"
      ]
     },
     "metadata": {},
     "output_type": "display_data"
    },
    {
     "name": "stdout",
     "output_type": "stream",
     "text": [
      "Tell me every driver that is German\n",
      "\n",
      "\n",
      "\u001b[1m> Entering new RetrievalQA chain...\u001b[0m\n",
      "\n",
      "\u001b[1m> Finished chain.\u001b[0m\n"
     ]
    },
    {
     "data": {
      "text/markdown": [
       "I'm sorry, but I cannot provide a complete answer as I only have access to the provided text which only mentions one driver that is German, Nico Rosberg."
      ],
      "text/plain": [
       "<IPython.core.display.Markdown object>"
      ]
     },
     "metadata": {},
     "output_type": "display_data"
    },
    {
     "name": "stdout",
     "output_type": "stream",
     "text": [
      "how many german drivers are?\n",
      "\n",
      "\n",
      "\u001b[1m> Entering new RetrievalQA chain...\u001b[0m\n",
      "\n",
      "\u001b[1m> Finished chain.\u001b[0m\n"
     ]
    },
    {
     "data": {
      "text/markdown": [
       "Based on the given portions of the document, it is not possible to determine the total number of German drivers. Each portion only provides information about one German driver."
      ],
      "text/plain": [
       "<IPython.core.display.Markdown object>"
      ]
     },
     "metadata": {},
     "output_type": "display_data"
    },
    {
     "name": "stdout",
     "output_type": "stream",
     "text": [
      "Tell me the oldest driver.\n",
      "\n",
      "\n",
      "\u001b[1m> Entering new RetrievalQA chain...\u001b[0m\n",
      "\n",
      "\u001b[1m> Finished chain.\u001b[0m\n"
     ]
    },
    {
     "data": {
      "text/markdown": [
       "I'm sorry, I cannot answer that question as the age or birth year of the drivers is not provided in the given text."
      ],
      "text/plain": [
       "<IPython.core.display.Markdown object>"
      ]
     },
     "metadata": {},
     "output_type": "display_data"
    },
    {
     "name": "stdout",
     "output_type": "stream",
     "text": [
      "which driver uses the number 14?\n",
      "\n",
      "\n",
      "\u001b[1m> Entering new RetrievalQA chain...\u001b[0m\n",
      "\n",
      "\u001b[1m> Finished chain.\u001b[0m\n"
     ]
    },
    {
     "data": {
      "text/markdown": [
       "There is no information provided in the given portion of the document about which driver uses the number 14."
      ],
      "text/plain": [
       "<IPython.core.display.Markdown object>"
      ]
     },
     "metadata": {},
     "output_type": "display_data"
    },
    {
     "name": "stdout",
     "output_type": "stream",
     "text": [
      "which driver has the oldest birthdate?\n",
      "\n",
      "\n",
      "\u001b[1m> Entering new RetrievalQA chain...\u001b[0m\n",
      "\n",
      "\u001b[1m> Finished chain.\u001b[0m\n"
     ]
    },
    {
     "data": {
      "text/markdown": [
       "Sorry, the given portion of the document does not provide information about the birthdates of any drivers, so it cannot be determined which driver has the oldest birthdate."
      ],
      "text/plain": [
       "<IPython.core.display.Markdown object>"
      ]
     },
     "metadata": {},
     "output_type": "display_data"
    }
   ],
   "source": [
    "qa_stuff = RetrievalQA.from_chain_type(\n",
    "    llm=llm, \n",
    "    chain_type=\"map_reduce\", \n",
    "    retriever=retriever, \n",
    "    verbose=True\n",
    ")\n",
    "\n",
    "for query in queries:\n",
    "    print(query)\n",
    "    response = qa_stuff.run(query)\n",
    "    display(Markdown(response))"
   ]
  },
  {
   "cell_type": "code",
   "execution_count": 15,
   "metadata": {},
   "outputs": [
    {
     "name": "stdout",
     "output_type": "stream",
     "text": [
      "Tell me the youngest driver.\n",
      "\n",
      "\n",
      "\u001b[1m> Entering new RetrievalQA chain...\u001b[0m\n",
      "\n",
      "\u001b[1m> Finished chain.\u001b[0m\n"
     ]
    },
    {
     "data": {
      "text/markdown": [
       "Based on the new context, the youngest driver is Nico Rosberg with the driverId 3. He was born on June 27, 1985, and is a German national."
      ],
      "text/plain": [
       "<IPython.core.display.Markdown object>"
      ]
     },
     "metadata": {},
     "output_type": "display_data"
    },
    {
     "name": "stdout",
     "output_type": "stream",
     "text": [
      "Tell me every driver that is German\n",
      "\n",
      "\n",
      "\u001b[1m> Entering new RetrievalQA chain...\u001b[0m\n",
      "\n",
      "\u001b[1m> Finished chain.\u001b[0m\n"
     ]
    },
    {
     "data": {
      "text/markdown": [
       "The original answer does not need to be refined as it already includes the German driver Nico Rosberg."
      ],
      "text/plain": [
       "<IPython.core.display.Markdown object>"
      ]
     },
     "metadata": {},
     "output_type": "display_data"
    },
    {
     "name": "stdout",
     "output_type": "stream",
     "text": [
      "how many german drivers are?\n",
      "\n",
      "\n",
      "\u001b[1m> Entering new RetrievalQA chain...\u001b[0m\n",
      "\n",
      "\u001b[1m> Finished chain.\u001b[0m\n"
     ]
    },
    {
     "data": {
      "text/markdown": [
       "Based on the additional context, we know that at least two drivers, Adrian Sutil and Nico Rosberg, are German. However, we still cannot determine the total number of German drivers in the context provided."
      ],
      "text/plain": [
       "<IPython.core.display.Markdown object>"
      ]
     },
     "metadata": {},
     "output_type": "display_data"
    },
    {
     "name": "stdout",
     "output_type": "stream",
     "text": [
      "Tell me the oldest driver.\n",
      "\n",
      "\n",
      "\u001b[1m> Entering new RetrievalQA chain...\u001b[0m\n",
      "\n",
      "\u001b[1m> Finished chain.\u001b[0m\n"
     ]
    },
    {
     "data": {
      "text/markdown": [
       "The original answer needs to be updated based on the new context. The oldest driver is not Takuma Sato, but rather Sebastien Bourdais, with a date of birth of 28/02/1979."
      ],
      "text/plain": [
       "<IPython.core.display.Markdown object>"
      ]
     },
     "metadata": {},
     "output_type": "display_data"
    },
    {
     "name": "stdout",
     "output_type": "stream",
     "text": [
      "which driver uses the number 14?\n",
      "\n",
      "\n",
      "\u001b[1m> Entering new RetrievalQA chain...\u001b[0m\n",
      "\n",
      "\u001b[1m> Finished chain.\u001b[0m\n"
     ]
    },
    {
     "data": {
      "text/markdown": [
       "The context provided is not useful in refining the original answer as it pertains to a different driver with a different number. The original answer remains correct - the driver who uses the number 14 is Fernando Alonso."
      ],
      "text/plain": [
       "<IPython.core.display.Markdown object>"
      ]
     },
     "metadata": {},
     "output_type": "display_data"
    },
    {
     "name": "stdout",
     "output_type": "stream",
     "text": [
      "which driver has the oldest birthdate?\n",
      "\n",
      "\n",
      "\u001b[1m> Entering new RetrievalQA chain...\u001b[0m\n",
      "\n",
      "\u001b[1m> Finished chain.\u001b[0m\n"
     ]
    },
    {
     "data": {
      "text/markdown": [
       "The new context is not useful in determining which driver has the oldest birthdate among the drivers mentioned. Therefore, the original answer of Sebastien Bourdais remains unchanged."
      ],
      "text/plain": [
       "<IPython.core.display.Markdown object>"
      ]
     },
     "metadata": {},
     "output_type": "display_data"
    }
   ],
   "source": [
    "qa_stuff = RetrievalQA.from_chain_type(\n",
    "    llm=llm, \n",
    "    chain_type=\"refine\", \n",
    "    retriever=retriever, \n",
    "    verbose=True\n",
    ")\n",
    "\n",
    "for query in queries:\n",
    "    print(query)\n",
    "    response = qa_stuff.run(query)\n",
    "    display(Markdown(response))"
   ]
  },
  {
   "cell_type": "code",
   "execution_count": 16,
   "metadata": {},
   "outputs": [
    {
     "name": "stdout",
     "output_type": "stream",
     "text": [
      "Tell me the youngest driver.\n",
      "\n",
      "\n",
      "\u001b[1m> Entering new RetrievalQA chain...\u001b[0m\n",
      "\n",
      "\u001b[1m> Finished chain.\u001b[0m\n"
     ]
    },
    {
     "data": {
      "text/markdown": [
       "The context does not provide enough information to determine the youngest driver."
      ],
      "text/plain": [
       "<IPython.core.display.Markdown object>"
      ]
     },
     "metadata": {},
     "output_type": "display_data"
    },
    {
     "name": "stdout",
     "output_type": "stream",
     "text": [
      "Tell me every driver that is German\n",
      "\n",
      "\n",
      "\u001b[1m> Entering new RetrievalQA chain...\u001b[0m\n",
      "\n",
      "\u001b[1m> Finished chain.\u001b[0m\n"
     ]
    },
    {
     "data": {
      "text/markdown": [
       "Adrian Sutil is a German driver."
      ],
      "text/plain": [
       "<IPython.core.display.Markdown object>"
      ]
     },
     "metadata": {},
     "output_type": "display_data"
    },
    {
     "name": "stdout",
     "output_type": "stream",
     "text": [
      "how many german drivers are?\n",
      "\n",
      "\n",
      "\u001b[1m> Entering new RetrievalQA chain...\u001b[0m\n",
      "\n",
      "\u001b[1m> Finished chain.\u001b[0m\n"
     ]
    },
    {
     "data": {
      "text/markdown": [
       "It is unclear how many German drivers there are based on this context. The information only provides details about one German driver named Adrian Sutil. "
      ],
      "text/plain": [
       "<IPython.core.display.Markdown object>"
      ]
     },
     "metadata": {},
     "output_type": "display_data"
    },
    {
     "name": "stdout",
     "output_type": "stream",
     "text": [
      "Tell me the oldest driver.\n",
      "\n",
      "\n",
      "\u001b[1m> Entering new RetrievalQA chain...\u001b[0m\n",
      "\n",
      "\u001b[1m> Finished chain.\u001b[0m\n"
     ]
    },
    {
     "data": {
      "text/markdown": [
       "Fernando Alonso, born on 29/07/1981"
      ],
      "text/plain": [
       "<IPython.core.display.Markdown object>"
      ]
     },
     "metadata": {},
     "output_type": "display_data"
    },
    {
     "name": "stdout",
     "output_type": "stream",
     "text": [
      "which driver uses the number 14?\n",
      "\n",
      "\n",
      "\u001b[1m> Entering new RetrievalQA chain...\u001b[0m\n",
      "\n",
      "\u001b[1m> Finished chain.\u001b[0m\n"
     ]
    },
    {
     "data": {
      "text/markdown": [
       "Alonso"
      ],
      "text/plain": [
       "<IPython.core.display.Markdown object>"
      ]
     },
     "metadata": {},
     "output_type": "display_data"
    },
    {
     "name": "stdout",
     "output_type": "stream",
     "text": [
      "which driver has the oldest birthdate?\n",
      "\n",
      "\n",
      "\u001b[1m> Entering new RetrievalQA chain...\u001b[0m\n",
      "\n",
      "\u001b[1m> Finished chain.\u001b[0m\n"
     ]
    },
    {
     "data": {
      "text/markdown": [
       "Fernando Alonso"
      ],
      "text/plain": [
       "<IPython.core.display.Markdown object>"
      ]
     },
     "metadata": {},
     "output_type": "display_data"
    }
   ],
   "source": [
    "qa_stuff = RetrievalQA.from_chain_type(\n",
    "    llm=llm, \n",
    "    chain_type='map_rerank', \n",
    "    retriever=retriever, \n",
    "    verbose=True\n",
    ")\n",
    "\n",
    "for query in queries:\n",
    "    print(query)\n",
    "    response = qa_stuff.run(query)\n",
    "    display(Markdown(response))"
   ]
  },
  {
   "cell_type": "code",
   "execution_count": 17,
   "metadata": {},
   "outputs": [],
   "source": [
    "index = VectorstoreIndexCreator(\n",
    "    vectorstore_cls=DocArrayInMemorySearch,\n",
    "    embedding=embeddings,\n",
    ").from_loaders([loader])"
   ]
  },
  {
   "cell_type": "code",
   "execution_count": 18,
   "metadata": {},
   "outputs": [
    {
     "name": "stdout",
     "output_type": "stream",
     "text": [
      "Tell me the youngest driver.\n",
      "I'm sorry, but I don't have enough information to answer your question. The context only provides the birth dates of the drivers, but not their ages.\n",
      "Tell me every driver that is German\n",
      "The drivers that are German are:\n",
      "- Nick Heidfeld\n",
      "- Timo Glock\n",
      "- Adrian Sutil\n",
      "- Nico Rosberg\n",
      "how many german drivers are?\n",
      "There are four German drivers listed in the given context.\n",
      "Tell me the oldest driver.\n",
      "I'm sorry, but I don't have enough information to answer that question. The context only provides the birth dates of the drivers, but not their ages.\n",
      "which driver uses the number 14?\n",
      "The driver with the number 14 is Alonso.\n",
      "which driver has the oldest birthdate?\n",
      "The driver with the oldest birthdate is Alonso, with a birthdate of 29/07/1981.\n"
     ]
    }
   ],
   "source": [
    "for query in queries:\n",
    "    print(query)\n",
    "    response = index.query(query, llm=llm)\n",
    "    print(response)"
   ]
  }
 ],
 "metadata": {
  "kernelspec": {
   "display_name": ".venv",
   "language": "python",
   "name": "python3"
  },
  "language_info": {
   "codemirror_mode": {
    "name": "ipython",
    "version": 3
   },
   "file_extension": ".py",
   "mimetype": "text/x-python",
   "name": "python",
   "nbconvert_exporter": "python",
   "pygments_lexer": "ipython3",
   "version": "3.11.4"
  },
  "orig_nbformat": 4
 },
 "nbformat": 4,
 "nbformat_minor": 2
}
