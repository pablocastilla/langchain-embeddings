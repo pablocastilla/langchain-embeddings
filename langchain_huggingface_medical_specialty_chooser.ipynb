{
 "cells": [
  {
   "attachments": {},
   "cell_type": "markdown",
   "metadata": {},
   "source": [
    "In this notebook I will try to create a medical specialty chooser in which the patient introduces his symptoms and the model will tell the medical specialty that the patient should go to."
   ]
  },
  {
   "cell_type": "code",
   "execution_count": 1,
   "metadata": {},
   "outputs": [
    {
     "name": "stderr",
     "output_type": "stream",
     "text": [
      "c:\\code\\langchain-embeddings\\.venv\\Lib\\site-packages\\tqdm\\auto.py:21: TqdmWarning: IProgress not found. Please update jupyter and ipywidgets. See https://ipywidgets.readthedocs.io/en/stable/user_install.html\n",
      "  from .autonotebook import tqdm as notebook_tqdm\n"
     ]
    },
    {
     "data": {
      "text/plain": [
       "True"
      ]
     },
     "execution_count": 1,
     "metadata": {},
     "output_type": "execute_result"
    }
   ],
   "source": [
    "from langchain import HuggingFacePipeline\n",
    "from langchain import LLMChain\n",
    "from langchain.prompts.chat import (\n",
    "    PromptTemplate\n",
    ")\n",
    "from langchain.callbacks import get_openai_callback\n",
    "from pydantic import BaseModel, Field\n",
    "from langchain.output_parsers import PydanticOutputParser\n",
    "from transformers import pipeline\n",
    "\n",
    "import torch\n",
    "torch.cuda.is_available()"
   ]
  },
  {
   "cell_type": "code",
   "execution_count": 2,
   "metadata": {},
   "outputs": [],
   "source": [
    "# Desired output format.\n",
    "class MedicalSpecialty(BaseModel):\n",
    "    medical_specialty: str = Field(description=\"medical specialty the patient should go to\")\n",
    "    urgent: bool = Field(description=\"the patient should go to the hospital immediately\")\n",
    " \n",
    "parser = PydanticOutputParser(pydantic_object=MedicalSpecialty)\n"
   ]
  },
  {
   "cell_type": "code",
   "execution_count": 3,
   "metadata": {},
   "outputs": [
    {
     "name": "stderr",
     "output_type": "stream",
     "text": [
      "Xformers is not installed correctly. If you want to use memory_efficient_attention to accelerate training use the following command to install Xformers\n",
      "pip install xformers.\n"
     ]
    },
    {
     "name": "stdout",
     "output_type": "stream",
     "text": [
      "i have ache in my chest and in my left arm.Which medical specialty should I go to?\n"
     ]
    },
    {
     "name": "stderr",
     "output_type": "stream",
     "text": [
      "c:\\code\\langchain-embeddings\\.venv\\Lib\\site-packages\\transformers\\generation\\utils.py:1353: UserWarning: Using `max_length`'s default (1024) to control the generation length. This behaviour is deprecated and will be removed from the config in v5 of Transformers -- we recommend using `max_new_tokens` to control the maximum length of the generation.\n",
      "  warnings.warn(\n"
     ]
    },
    {
     "name": "stdout",
     "output_type": "stream",
     "text": [
      "Answer:\n",
      "You should go to a specialist for the diagnosis of your chest pain. You should also go to a specialist for the diagnosis of your arm pain. You should also go to a specialist for the diagnosis of your back pain. You should also go to a specialist for the diagnosis of your leg pain. You should also go to a specialist for the diagnosis of your back pain. You should also go to a specialist for the diagnosis of your leg pain. You should also go to a specialist for the diagnosis of your back pain. You should also go to a specialist for the diagnosis of your back pain. You should also go to a specialist for the diagnosis of your back pain. You should also go to a specialist for the diagnosis of your back pain. You should also go to a specialist for the diagnosis of your back pain. You should also go to a specialist for the diagnosis of your back pain. You should also go to a specialist for the diagnosis of your back pain. You should also go to a specialist for the diagnosis of your back pain. You should also go to a specialist for the diagnosis of your back pain. You should also go to a specialist for the diagnosis of your back pain. You should also go to a specialist for the diagnosis of your back pain. You should also go to a specialist for the diagnosis of your back pain. You should also go to a specialist for the diagnosis of your back pain. You should also go to a specialist for the diagnosis of your back pain. You should also go to a specialist for the diagnosis of your back pain. You should also go to a specialist for the diagnosis of your back pain. You should also go to a specialist for the diagnosis of your back pain. You should also go to a specialist for the diagnosis of your back pain. You should also go to a specialist for the diagnosis of your back pain. You should also go to a specialist for the diagnosis of your back pain. You should also go to a specialist for the diagnosis of your back pain. You should also go to a specialist for the diagnosis of your back pain. You should also go to a specialist for the diagnosis of your back pain. You should also go to a specialist for the diagnosis of your back pain. You should also go to a specialist for the diagnosis of your back pain. You should also go to a specialist for the diagnosis of your back pain. You should also go to a specialist for the diagnosis of your back pain. You should also go to a specialist for the diagnosis of your back pain. You should also go to a specialist for the diagnosis of your back pain. You should also go to a specialist for the diagnosis of your back pain. You should also go to a specialist for the diagnosis of your back pain. You should also go to a specialist for the diagnosis of your back pain. You should also go to a specialist for the diagnosis of your back pain. You should also go to a specialist for the diagnosis of your back pain. You should also go to a specialist for the diagnosis of your back pain. You should also go to a specialist for the diagnosis of your back pain. You should also go to a specialist for the diagnosis of your back pain. You should also go to a specialist for the diagnosis of your back pain. You should also go to a specialist for the diagnosis of your back pain. You should also go to a specialist for the diagnosis of your back pain. You should also go to a specialist for the diagnosis of your back pain. You should also go to a specialist for the diagnosis of your back pain. You should also go to a specialist for the diagnosis of your back pain. You should also go to a specialist for the diagnosis of your back pain. You should also go to a specialist for the diagnosis of your back pain. You should also go to a specialist for the diagnosis of your back pain. You should also go to a specialist for the diagnosis of your back pain. You should also go to a specialist for the diagnosis of your back pain. You should also go to a specialist for the diagnosis of your back pain. You should also go to a specialist for the diagnosis of your back pain. You should also go to a specialist for the diagnosis of your back pain. You should also go to a specialist for the diagnosis of your back pain. You should also go to a specialist for the diagnosis of your back pain. You should also go to a specialist for the diagnosis of your back pain. You should also go to a specialist for the diagnosis of your back pain. You should also go to a specialist for the diagnosis of your back pain. You should also go to a specialist for the diagnosis of your back pain. You should also go to a specialist for the diagnosis of your back pain. You should also go to a specialist for the diagnosis of your back pain. You should also go to a specialist for the diagnosis of your back pain. You should also go to a specialist for the\n",
      "====================================\n",
      "Tokens Used: 0\n",
      "\tPrompt Tokens: 0\n",
      "\tCompletion Tokens: 0\n",
      "Successful Requests: 0\n",
      "Total Cost (USD): $0.0\n"
     ]
    }
   ],
   "source": [
    "queries = [\"i have ache in my chest and in my left arm.Which medical specialty should I go to?\"\n",
    "           ]\n",
    "\n",
    "\n",
    "\n",
    "template = \"\"\"\n",
    "Question: {question}\n",
    "\"\"\"\n",
    "prompt = PromptTemplate(template=template, input_variables=[\"question\"])\n",
    "\n",
    "llm = HuggingFacePipeline.from_model_id(\n",
    "    model_id=\"bigscience/bloom-1b7\",\n",
    "    task=\"text-generation\",\n",
    "    model_kwargs={\"temperature\": 0, \"max_length\": 1024},\n",
    "    device=0\n",
    ")\n",
    "\n",
    "with get_openai_callback() as cb:\n",
    "    for query in queries:\n",
    "\n",
    "        chain = LLMChain(prompt=prompt,llm=llm)\n",
    "        print(query)\n",
    "        print(chain.run({'question': query}))\n",
    "        print(\"====================================\")\n",
    "        \n",
    "    # print te costs of the requests\n",
    "    print(cb)\n",
    "\n"
   ]
  }
 ],
 "metadata": {
  "kernelspec": {
   "display_name": ".venv",
   "language": "python",
   "name": "python3"
  },
  "language_info": {
   "codemirror_mode": {
    "name": "ipython",
    "version": 3
   },
   "file_extension": ".py",
   "mimetype": "text/x-python",
   "name": "python",
   "nbconvert_exporter": "python",
   "pygments_lexer": "ipython3",
   "version": "3.11.4"
  },
  "orig_nbformat": 4
 },
 "nbformat": 4,
 "nbformat_minor": 2
}
